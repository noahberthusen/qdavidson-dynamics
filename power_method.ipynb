{
 "cells": [
  {
   "cell_type": "code",
   "execution_count": 1,
   "metadata": {},
   "outputs": [
    {
     "name": "stdout",
     "output_type": "stream",
     "text": [
      "Random Matrix:\n",
      "[[0.91077325 0.05127855 0.13687059 0.20098364 0.23522137]\n",
      " [0.35898991 0.22410794 0.74015765 0.82356632 0.15964835]\n",
      " [0.5391696  0.36608487 0.98188205 0.65256585 0.09039381]\n",
      " [0.27287117 0.81573116 0.23237253 0.10668894 0.66544099]\n",
      " [0.64282776 0.77592612 0.81962734 0.21489333 0.36606427]]\n",
      "\n",
      "Eigenvalues:\n",
      "Eigenvalue 1: (2.2175025115163662+0j)\n",
      "Eigenvalue 2: (0.7273648794306453+0j)\n",
      "Eigenvalue 3: (-0.18990858967334429+0.1769818667024155j)\n",
      "Eigenvalue 4: (-0.18990858967334429-0.1769818667024155j)\n",
      "Eigenvalue 5: (0.02446624292695263+0j)\n",
      "\n",
      "Eigenvectors:\n",
      "Eigenvector 1: [0.23539109+0.j 0.45246311+0.j 0.50522906+0.j 0.43279683+0.j\n",
      " 0.54525101+0.j]\n",
      "Eigenvector 2: [ 0.81430747+0.j -0.37954711+0.j -0.23729262+0.j -0.35158033+0.j\n",
      " -0.11371376+0.j]\n",
      "Eigenvector 3: [ 0.16120534-0.00561968j  0.54120082-0.07835745j -0.12135655-0.15882274j\n",
      " -0.07411836+0.30088079j -0.73414452+0.j        ]\n",
      "Eigenvector 4: [ 0.16120534+0.00561968j  0.54120082+0.07835745j -0.12135655+0.15882274j\n",
      " -0.07411836-0.30088079j -0.73414452-0.j        ]\n",
      "Eigenvector 5: [ 0.12264397+0.j  0.54839811+0.j -0.45062739+0.j  0.3362053 +0.j\n",
      " -0.60672804+0.j]\n"
     ]
    }
   ],
   "source": [
    "import numpy as np\n",
    "\n",
    "# Set the size of the random matrix\n",
    "matrix_size = 5\n",
    "\n",
    "# Generate a random matrix\n",
    "random_matrix = np.random.rand(matrix_size, matrix_size)\n",
    "\n",
    "# Compute the eigendecomposition\n",
    "eigenvalues, eigenvectors = np.linalg.eig(random_matrix)\n",
    "\n",
    "# Print the original matrix\n",
    "print(\"Random Matrix:\")\n",
    "print(random_matrix)\n",
    "\n",
    "# Print the eigenvalues\n",
    "print(\"\\nEigenvalues:\")\n",
    "for i, eigenvalue in enumerate(eigenvalues):\n",
    "    print(f\"Eigenvalue {i+1}: {eigenvalue}\")\n",
    "\n",
    "# Print the eigenvectors\n",
    "print(\"\\nEigenvectors:\")\n",
    "for i, eigenvector in enumerate(eigenvectors.T):\n",
    "    print(f\"Eigenvector {i+1}: {eigenvector}\")"
   ]
  },
  {
   "cell_type": "code",
   "execution_count": 2,
   "metadata": {},
   "outputs": [
    {
     "name": "stdout",
     "output_type": "stream",
     "text": [
      "[[0.23539109]\n",
      " [0.45246311]\n",
      " [0.50522906]\n",
      " [0.43279683]\n",
      " [0.54525101]]\n"
     ]
    }
   ],
   "source": [
    "b = np.random.rand(matrix_size, 1)\n",
    "\n",
    "for i in range(100):\n",
    "    Aib = random_matrix @ b\n",
    "    norm = np.linalg.norm(Aib)\n",
    "    b = Aib / norm\n",
    "\n",
    "print(b)"
   ]
  },
  {
   "cell_type": "code",
   "execution_count": null,
   "metadata": {},
   "outputs": [],
   "source": []
  }
 ],
 "metadata": {
  "kernelspec": {
   "display_name": "qc",
   "language": "python",
   "name": "python3"
  },
  "language_info": {
   "codemirror_mode": {
    "name": "ipython",
    "version": 3
   },
   "file_extension": ".py",
   "mimetype": "text/x-python",
   "name": "python",
   "nbconvert_exporter": "python",
   "pygments_lexer": "ipython3",
   "version": "3.8.12"
  },
  "orig_nbformat": 4
 },
 "nbformat": 4,
 "nbformat_minor": 2
}
