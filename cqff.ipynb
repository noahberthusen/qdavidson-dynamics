{
 "cells": [
  {
   "cell_type": "code",
   "execution_count": 1,
   "metadata": {},
   "outputs": [],
   "source": [
    "import numpy as np\n",
    "from scipy.sparse.linalg import expm_multiply, expm\n",
    "import matplotlib.pyplot as plt\n",
    "from qiskit.synthesis import SuzukiTrotter\n",
    "from scipy.optimize import minimize, linprog\n",
    "from scipy.linalg import eigh, eig\n",
    "import random\n",
    "import cmath"
   ]
  },
  {
   "cell_type": "code",
   "execution_count": 2,
   "metadata": {},
   "outputs": [],
   "source": [
    "X = np.array([[0,1],[1,0]])\n",
    "Y = np.array([[0,-1j],[1j,0]])\n",
    "Z = np.array([[1,0],[0,-1]])\n",
    "I = np.eye(2)\n",
    "\n",
    "n = 4\n",
    "\n",
    "# coeffs = [1,2,3]\n",
    "# Us = [np.kron(X, X), np.kron(Y,Y), np.kron(Z,Z)]  # 2 qubit Hamiltonian terms\n",
    "\n",
    "# coeffs = [1,2,3,1,2,3]\n",
    "# Us = [np.kron(np.kron(X, X), I), np.kron(np.kron(Y, Y), I), np.kron(np.kron(Z, Z), I), np.kron(I, np.kron(X, X)), np.kron(I, np.kron(Y, Y)), np.kron(I, np.kron(Z, Z))]   # 3 qubit Hamiltonian terms\n",
    "\n",
    "coeffs = [1,1]\n",
    "Us = [np.kron(np.kron(Z,X), np.kron(Z,I)), np.kron(np.kron(I,Z), np.kron(X,Z))]\n",
    "\n",
    "# coeffs = [1,1,1]\n",
    "# Us = [np.kron(np.kron(Z,X), np.kron(Z,np.kron(I,I))), np.kron(np.kron(I,Z), np.kron(X,np.kron(Z,I))), np.kron(np.kron(np.kron(I,I),Z), np.kron(X,Z))]\n",
    "\n",
    "H = sum([b*U for b, U in zip(coeffs, Us)])\n",
    "# H1 /= np.linalg.norm(H1, 2)"
   ]
  },
  {
   "cell_type": "code",
   "execution_count": 3,
   "metadata": {},
   "outputs": [
    {
     "name": "stdout",
     "output_type": "stream",
     "text": [
      "Hamiltonian:\n",
      "[[ 0.  0.  1.  0.  1.  0.  0.  0.  0.  0.  0.  0.  0.  0.  0.  0.]\n",
      " [ 0.  0.  0. -1.  0.  1.  0.  0.  0.  0.  0.  0.  0.  0.  0.  0.]\n",
      " [ 1.  0.  0.  0.  0.  0. -1.  0.  0.  0.  0.  0.  0.  0.  0.  0.]\n",
      " [ 0. -1.  0.  0.  0.  0.  0. -1.  0.  0.  0.  0.  0.  0.  0.  0.]\n",
      " [ 1.  0.  0.  0.  0.  0. -1.  0.  0.  0.  0.  0.  0.  0.  0.  0.]\n",
      " [ 0.  1.  0.  0.  0.  0.  0.  1.  0.  0.  0.  0.  0.  0.  0.  0.]\n",
      " [ 0.  0. -1.  0. -1.  0.  0.  0.  0.  0.  0.  0.  0.  0.  0.  0.]\n",
      " [ 0.  0.  0. -1.  0.  1.  0.  0.  0.  0.  0.  0.  0.  0.  0.  0.]\n",
      " [ 0.  0.  0.  0.  0.  0.  0.  0.  0.  0.  1.  0. -1.  0.  0.  0.]\n",
      " [ 0.  0.  0.  0.  0.  0.  0.  0.  0.  0.  0. -1.  0. -1.  0.  0.]\n",
      " [ 0.  0.  0.  0.  0.  0.  0.  0.  1.  0.  0.  0.  0.  0.  1.  0.]\n",
      " [ 0.  0.  0.  0.  0.  0.  0.  0.  0. -1.  0.  0.  0.  0.  0.  1.]\n",
      " [ 0.  0.  0.  0.  0.  0.  0.  0. -1.  0.  0.  0.  0.  0. -1.  0.]\n",
      " [ 0.  0.  0.  0.  0.  0.  0.  0.  0. -1.  0.  0.  0.  0.  0.  1.]\n",
      " [ 0.  0.  0.  0.  0.  0.  0.  0.  0.  0.  1.  0. -1.  0.  0.  0.]\n",
      " [ 0.  0.  0.  0.  0.  0.  0.  0.  0.  0.  0.  1.  0.  1.  0.  0.]]\n",
      "\n",
      "Eigenvalues:\n",
      "Eigenvalue 1: (-1.9999999999999996+0j)\n",
      "Eigenvalue 2: (1.9999999999999991+0j)\n",
      "Eigenvalue 3: (-2+0j)\n",
      "Eigenvalue 4: (1.9999999999999996+0j)\n",
      "Eigenvalue 5: (1.300187750445475e-17+1.5480057019967506e-16j)\n",
      "Eigenvalue 6: (1.300187750445475e-17-1.5480057019967506e-16j)\n",
      "Eigenvalue 7: (1.998318839695225e-17+0j)\n",
      "Eigenvalue 8: (2.1394708372058482e-32+0j)\n",
      "Eigenvalue 9: (-1.9999999999999993+0j)\n",
      "Eigenvalue 10: (-2+0j)\n",
      "Eigenvalue 11: (1.999999999999999+0j)\n",
      "Eigenvalue 12: (1.9999999999999998+0j)\n",
      "Eigenvalue 13: (1.8062106049829714e-17+7.323371272258156e-17j)\n",
      "Eigenvalue 14: (1.8062106049829714e-17-7.323371272258156e-17j)\n",
      "Eigenvalue 15: (4.238041083452945e-17+0j)\n",
      "Eigenvalue 16: (-9.25600892374515e-32+0j)\n",
      "\n",
      "Eigenvectors:\n",
      "Eigenvector 1: [ 5.00000000e-01+0.j  7.85046229e-17+0.j -5.00000000e-01+0.j\n",
      "  1.96261557e-17+0.j -5.00000000e-01+0.j -1.96261557e-17+0.j\n",
      " -5.00000000e-01+0.j  3.53276137e-33+0.j  0.00000000e+00+0.j\n",
      "  0.00000000e+00+0.j  0.00000000e+00+0.j  0.00000000e+00+0.j\n",
      "  0.00000000e+00+0.j  0.00000000e+00+0.j  0.00000000e+00+0.j\n",
      "  0.00000000e+00+0.j]\n",
      "Eigenvector 2: [-5.00000000e-01+0.j  8.62367192e-17+0.j -5.00000000e-01+0.j\n",
      "  3.18187945e-18+0.j -5.00000000e-01+0.j -3.18187945e-18+0.j\n",
      "  5.00000000e-01+0.j  3.60565358e-18+0.j  0.00000000e+00+0.j\n",
      "  0.00000000e+00+0.j  0.00000000e+00+0.j  0.00000000e+00+0.j\n",
      "  0.00000000e+00+0.j  0.00000000e+00+0.j  0.00000000e+00+0.j\n",
      "  0.00000000e+00+0.j]\n",
      "Eigenvector 3: [ 0.16666667+0.j  0.47140452+0.j -0.16666667+0.j  0.47140452+0.j\n",
      " -0.16666667+0.j -0.47140452+0.j -0.16666667+0.j  0.47140452+0.j\n",
      "  0.        +0.j  0.        +0.j  0.        +0.j  0.        +0.j\n",
      "  0.        +0.j  0.        +0.j  0.        +0.j  0.        +0.j]\n",
      "Eigenvector 4: [-0.1516479 +0.j  0.47644823+0.j -0.1516479 +0.j -0.47644823+0.j\n",
      " -0.1516479 +0.j  0.47644823+0.j  0.1516479 +0.j  0.47644823+0.j\n",
      "  0.        +0.j  0.        +0.j  0.        +0.j  0.        +0.j\n",
      "  0.        +0.j  0.        +0.j  0.        +0.j  0.        +0.j]\n",
      "Eigenvector 5: [ 4.50077000e-17+1.00644530e-17j -3.40041503e-02-4.04853980e-01j\n",
      " -5.24022838e-01+0.00000000e+00j -2.35115140e-01+7.11189789e-02j\n",
      "  5.24022838e-01-6.55291290e-17j -2.35115140e-01+7.11189789e-02j\n",
      "  4.50077000e-17+1.00644530e-17j  3.40041503e-02+4.04853980e-01j\n",
      "  0.00000000e+00+0.00000000e+00j  0.00000000e+00+0.00000000e+00j\n",
      "  0.00000000e+00+0.00000000e+00j  0.00000000e+00+0.00000000e+00j\n",
      "  0.00000000e+00+0.00000000e+00j  0.00000000e+00+0.00000000e+00j\n",
      "  0.00000000e+00+0.00000000e+00j  0.00000000e+00+0.00000000e+00j]\n",
      "Eigenvector 6: [ 4.50077000e-17-1.00644530e-17j -3.40041503e-02+4.04853980e-01j\n",
      " -5.24022838e-01-0.00000000e+00j -2.35115140e-01-7.11189789e-02j\n",
      "  5.24022838e-01+6.55291290e-17j -2.35115140e-01-7.11189789e-02j\n",
      "  4.50077000e-17-1.00644530e-17j  3.40041503e-02-4.04853980e-01j\n",
      "  0.00000000e+00-0.00000000e+00j  0.00000000e+00-0.00000000e+00j\n",
      "  0.00000000e+00-0.00000000e+00j  0.00000000e+00-0.00000000e+00j\n",
      "  0.00000000e+00-0.00000000e+00j  0.00000000e+00-0.00000000e+00j\n",
      "  0.00000000e+00-0.00000000e+00j  0.00000000e+00-0.00000000e+00j]\n",
      "Eigenvector 7: [-3.64556314e-16+0.j -6.59157855e-02+0.j -6.60920170e-01+0.j\n",
      "  2.42568830e-01+0.j  6.60920170e-01+0.j  2.42568830e-01+0.j\n",
      " -3.64556314e-16+0.j  6.59157855e-02+0.j  0.00000000e+00+0.j\n",
      "  0.00000000e+00+0.j  0.00000000e+00+0.j  0.00000000e+00+0.j\n",
      "  0.00000000e+00+0.j  0.00000000e+00+0.j  0.00000000e+00+0.j\n",
      "  0.00000000e+00+0.j]\n",
      "Eigenvector 8: [-2.23606798e-01+0.j  2.51633619e-17+0.j -6.70820393e-01+0.j\n",
      " -3.97515637e-16+0.j  6.70820393e-01+0.j -4.32623972e-16+0.j\n",
      " -2.23606798e-01+0.j -1.15438867e-16+0.j  0.00000000e+00+0.j\n",
      "  0.00000000e+00+0.j  0.00000000e+00+0.j  0.00000000e+00+0.j\n",
      "  0.00000000e+00+0.j  0.00000000e+00+0.j  0.00000000e+00+0.j\n",
      "  0.00000000e+00+0.j]\n",
      "Eigenvector 9: [ 0.00000000e+00+0.j  0.00000000e+00+0.j  0.00000000e+00+0.j\n",
      "  0.00000000e+00+0.j  0.00000000e+00+0.j  0.00000000e+00+0.j\n",
      "  0.00000000e+00+0.j  0.00000000e+00+0.j  5.00000000e-01+0.j\n",
      "  7.85046229e-17+0.j -5.00000000e-01+0.j  1.96261557e-17+0.j\n",
      "  5.00000000e-01+0.j  1.96261557e-17+0.j  5.00000000e-01+0.j\n",
      " -4.49005693e-33+0.j]\n",
      "Eigenvector 10: [ 0.        +0.j  0.        +0.j  0.        +0.j  0.        +0.j\n",
      "  0.        +0.j  0.        +0.j  0.        +0.j  0.        +0.j\n",
      " -0.09248029+0.j -0.49137297+0.j  0.09248029+0.j -0.49137297+0.j\n",
      " -0.09248029+0.j -0.49137297+0.j -0.09248029+0.j  0.49137297+0.j]\n",
      "Eigenvector 11: [ 0.00000000e+00+0.j  0.00000000e+00+0.j  0.00000000e+00+0.j\n",
      "  0.00000000e+00+0.j  0.00000000e+00+0.j  0.00000000e+00+0.j\n",
      "  0.00000000e+00+0.j  0.00000000e+00+0.j -5.00000000e-01+0.j\n",
      " -9.25185854e-17+0.j -5.00000000e-01+0.j  1.48029737e-16+0.j\n",
      "  5.00000000e-01+0.j  1.48029737e-16+0.j -5.00000000e-01+0.j\n",
      "  2.03540888e-16+0.j]\n",
      "Eigenvector 12: [ 0.        +0.j  0.        +0.j  0.        +0.j  0.        +0.j\n",
      "  0.        +0.j  0.        +0.j  0.        +0.j  0.        +0.j\n",
      " -0.06472978+0.j  0.49579235+0.j -0.06472978+0.j -0.49579235+0.j\n",
      "  0.06472978+0.j -0.49579235+0.j -0.06472978+0.j -0.49579235+0.j]\n",
      "Eigenvector 13: [ 0.00000000e+00+0.00000000e+00j  0.00000000e+00+0.00000000e+00j\n",
      "  0.00000000e+00+0.00000000e+00j  0.00000000e+00+0.00000000e+00j\n",
      "  0.00000000e+00+0.00000000e+00j  0.00000000e+00+0.00000000e+00j\n",
      "  0.00000000e+00+0.00000000e+00j  0.00000000e+00+0.00000000e+00j\n",
      " -5.42930642e-17+3.77199724e-17j  5.62171275e-02+2.27935156e-01j\n",
      "  6.23626585e-01+2.27575617e-17j  1.41098119e-01-1.89911566e-01j\n",
      "  6.23626585e-01+0.00000000e+00j -1.41098119e-01+1.89911566e-01j\n",
      "  5.42930642e-17-3.77199724e-17j  5.62171275e-02+2.27935156e-01j]\n",
      "Eigenvector 14: [ 0.00000000e+00-0.00000000e+00j  0.00000000e+00-0.00000000e+00j\n",
      "  0.00000000e+00-0.00000000e+00j  0.00000000e+00-0.00000000e+00j\n",
      "  0.00000000e+00-0.00000000e+00j  0.00000000e+00-0.00000000e+00j\n",
      "  0.00000000e+00-0.00000000e+00j  0.00000000e+00-0.00000000e+00j\n",
      " -5.42930642e-17-3.77199724e-17j  5.62171275e-02-2.27935156e-01j\n",
      "  6.23626585e-01-2.27575617e-17j  1.41098119e-01+1.89911566e-01j\n",
      "  6.23626585e-01-0.00000000e+00j -1.41098119e-01-1.89911566e-01j\n",
      "  5.42930642e-17+3.77199724e-17j  5.62171275e-02-2.27935156e-01j]\n",
      "Eigenvector 15: [ 0.00000000e+00+0.j  0.00000000e+00+0.j  0.00000000e+00+0.j\n",
      "  0.00000000e+00+0.j  0.00000000e+00+0.j  0.00000000e+00+0.j\n",
      "  0.00000000e+00+0.j  0.00000000e+00+0.j -2.47453521e-16+0.j\n",
      "  1.28312003e-01+0.j  6.06633627e-01+0.j -3.39899504e-01+0.j\n",
      "  6.06633627e-01+0.j  3.39899504e-01+0.j  2.47453521e-16+0.j\n",
      "  1.28312003e-01+0.j]\n",
      "Eigenvector 16: [ 0.00000000e+00+0.j  0.00000000e+00+0.j  0.00000000e+00+0.j\n",
      "  0.00000000e+00+0.j  0.00000000e+00+0.j  0.00000000e+00+0.j\n",
      "  0.00000000e+00+0.j  0.00000000e+00+0.j  6.87089097e-02+0.j\n",
      "  2.52612313e-17+0.j  7.03760674e-01+0.j  8.71025732e-16+0.j\n",
      "  7.03760674e-01+0.j -7.59798251e-16+0.j -6.87089097e-02+0.j\n",
      " -9.04296597e-17+0.j]\n"
     ]
    }
   ],
   "source": [
    "eigenvalues, eigenvectors = np.linalg.eig(H)\n",
    "\n",
    "# Print the original matrix\n",
    "print(\"Hamiltonian:\")\n",
    "print(H)\n",
    "\n",
    "# Print the eigenvalues\n",
    "print(\"\\nEigenvalues:\")\n",
    "for i, eigenvalue in enumerate(eigenvalues):\n",
    "    print(f\"Eigenvalue {i+1}: {eigenvalue}\")\n",
    "\n",
    "# Print the eigenvectors\n",
    "print(\"\\nEigenvectors:\")\n",
    "for i, eigenvector in enumerate(eigenvectors.T):\n",
    "    print(f\"Eigenvector {i+1}: {eigenvector}\")"
   ]
  },
  {
   "cell_type": "code",
   "execution_count": 4,
   "metadata": {},
   "outputs": [],
   "source": [
    "def random_initial_state(n):\n",
    "    components = [complex(random.uniform(-1, 1), random.uniform(-1, 1)) for _ in range(n)]\n",
    "    magnitude = cmath.sqrt(sum(comp.real**2 + comp.imag**2 for comp in components))\n",
    "    normalized_vector = [comp / magnitude for comp in components]\n",
    "    \n",
    "    return np.array(normalized_vector)\n",
    "\n",
    "# def TrotterEvolve(dt, nt, init):\n",
    "#     ZXZI = expm(-1j * dt * np.kron(np.kron(Z,X), np.kron(Z,I)))\n",
    "#     IZXZ = expm(-1j * dt * np.kron(np.kron(I,Z), np.kron(X,Z)))\n",
    "#     UTrot = ZXZI @ IZXZ\n",
    "\n",
    "#     trot = [np.zeros(2**n) for i in range(nt+1)]\n",
    "#     trot[0] = init\n",
    "#     for i in range(nt):\n",
    "#         trot[i+1] = UTrot @ trot[i]\n",
    "#     return trot"
   ]
  },
  {
   "cell_type": "code",
   "execution_count": 5,
   "metadata": {},
   "outputs": [],
   "source": [
    "tf = 10\n",
    "ts = np.linspace(0, tf, 200)\n",
    "init = random_initial_state(2**n) # this is assumed to be efficiently preparable on a quantum computer\n",
    "\n",
    "exact_te = [expm_multiply(-1j * H * t, init) for t in ts]\n",
    "# trot_te = TrotterEvolve(0.5, len(ts)-1, init)"
   ]
  },
  {
   "cell_type": "code",
   "execution_count": 6,
   "metadata": {},
   "outputs": [
    {
     "data": {
      "text/plain": [
       "[<matplotlib.lines.Line2D at 0x1cbe9295790>]"
      ]
     },
     "execution_count": 6,
     "metadata": {},
     "output_type": "execute_result"
    },
    {
     "data": {
      "image/png": "[encoded data removed]",
      "text/plain": [
       "<Figure size 432x288 with 1 Axes>"
      ]
     },
     "metadata": {
      "needs_background": "light"
     },
     "output_type": "display_data"
    }
   ],
   "source": [
    "# O = np.kron(np.kron(I,Y), np.kron(I, np.kron(I,I)))\n",
    "O = np.kron(np.kron(I,Y), np.kron(I,I))\n",
    "exact_Z1 = [(np.conj(psi) @ O @ psi).real for psi in exact_te]\n",
    "# trot_Z1 = [(np.conj(psi) @ O @ psi).real for psi in trot_te]\n",
    "\n",
    "plt.plot(ts, exact_Z1)\n",
    "# plt.plot(ts, trot_Z1)\n"
   ]
  },
  {
   "cell_type": "code",
   "execution_count": 12,
   "metadata": {},
   "outputs": [
    {
     "name": "stdout",
     "output_type": "stream",
     "text": [
      "4\n"
     ]
    }
   ],
   "source": [
    "def flatten_with_arrays(lst):\n",
    "    flattened = []\n",
    "    for item in lst:\n",
    "        if isinstance(item, list):\n",
    "            flattened.extend(flatten_with_arrays(item))\n",
    "        elif isinstance(item, np.ndarray):\n",
    "            flattened.append(item)\n",
    "        else:\n",
    "            flattened.append(item)\n",
    "    return flattened\n",
    "\n",
    "K = 2\n",
    "CSk = [[init]]\n",
    "\n",
    "for k in range(1,K+1):\n",
    "    tmp = []\n",
    "    for psi in CSk[k-1]:\n",
    "        for U in Us:\n",
    "            tmp.append(U @ psi)\n",
    "    CSk.append(tmp)\n",
    "    \n",
    "CSk = flatten_with_arrays(CSk)\n",
    "indexes = np.unique(np.array(CSk), axis=0, return_index=True)[1]\n",
    "CSk = [CSk[index] for index in sorted(indexes)]\n",
    "alpha0 = np.zeros(len(CSk))\n",
    "alpha0[0] = 1\n",
    "print(len(CSk))\n"
   ]
  },
  {
   "cell_type": "code",
   "execution_count": 17,
   "metadata": {},
   "outputs": [
    {
     "name": "stdout",
     "output_type": "stream",
     "text": [
      "[[0.363+0.j 0.841+0.j 0.841+0.j 0.363+0.j]\n",
      " [0.841+0.j 0.363+0.j 0.363+0.j 0.841+0.j]\n",
      " [0.841+0.j 0.363+0.j 0.363+0.j 0.841+0.j]\n",
      " [0.363+0.j 0.841+0.j 0.841+0.j 0.363+0.j]]\n",
      "\n",
      "[[ 1.   +0.j  0.386+0.j -0.023+0.j -0.159+0.j]\n",
      " [ 0.386+0.j  1.   +0.j -0.159+0.j -0.023+0.j]\n",
      " [-0.023+0.j -0.159+0.j  1.   +0.j  0.386+0.j]\n",
      " [-0.159+0.j -0.023+0.j  0.386+0.j  1.   +0.j]]\n"
     ]
    }
   ],
   "source": [
    "def compute_D(K_moments, Ham):\n",
    "    dim = len(K_moments)\n",
    "    D = np.zeros((dim, dim), dtype=np.complex64)\n",
    "\n",
    "    for i in range(dim):\n",
    "        for j in range(dim):\n",
    "            D[i][j] = (np.conj(K_moments[i]) @ Ham @ K_moments[j])\n",
    "    return D\n",
    "\n",
    "def compute_E(K_moments):\n",
    "    dim = len(K_moments)\n",
    "    E = np.zeros((dim, dim), dtype=np.complex64)\n",
    "\n",
    "    for i in range(dim):\n",
    "        for j in range(dim):\n",
    "            E[i][j] = (np.conj(K_moments[i]) @ K_moments[j])\n",
    "    return E\n",
    "\n",
    "print(np.round(compute_D(CSk, H), 3))\n",
    "print()\n",
    "print(np.round(compute_E(CSk), 3))"
   ]
  },
  {
   "cell_type": "code",
   "execution_count": 18,
   "metadata": {},
   "outputs": [],
   "source": [
    "D = compute_D(CSk, H)\n",
    "E = compute_E(CSk)\n",
    "\n",
    "ls, vs = eigh(D, E)"
   ]
  },
  {
   "cell_type": "code",
   "execution_count": 19,
   "metadata": {},
   "outputs": [],
   "source": [
    "def QCSSEvolve(ls, vs, T, alpha0):\n",
    "    dim = len(ls)\n",
    "    csk_exp = np.zeros((dim, dim), dtype=np.complex128)\n",
    "\n",
    "    for i in range(dim):\n",
    "        csk_exp += np.exp(-1j * ls[i] * T) * np.outer(vs[:, i], np.conj(vs[:, i])) @ E\n",
    "    alphaT = csk_exp @ alpha0\n",
    "    return sum([CSk[i] * alphaT[i] for i in range(dim)])"
   ]
  },
  {
   "cell_type": "code",
   "execution_count": 20,
   "metadata": {},
   "outputs": [
    {
     "data": {
      "text/plain": [
       "<matplotlib.legend.Legend at 0x1cbe948bfd0>"
      ]
     },
     "execution_count": 20,
     "metadata": {},
     "output_type": "execute_result"
    },
    {
     "data": {
      "image/png": "[encoded data removed]",
      "text/plain": [
       "<Figure size 432x288 with 1 Axes>"
      ]
     },
     "metadata": {
      "needs_background": "light"
     },
     "output_type": "display_data"
    }
   ],
   "source": [
    "qcss_te = [QCSSEvolve(ls, vs, t, alpha0) for t in ts]\n",
    "qcss_Z1 = [(np.conj(psi) @ O @ psi).real for psi in qcss_te]\n",
    "\n",
    "plt.plot(ts, exact_Z1, label=\"Theoretical\")\n",
    "plt.plot(ts, qcss_Z1, 'r--', label=\"CQFF, K=1\")\n",
    "plt.legend(loc='upper left')"
   ]
  },
  {
   "cell_type": "code",
   "execution_count": null,
   "metadata": {},
   "outputs": [],
   "source": []
  }
 ],
 "metadata": {
  "kernelspec": {
   "display_name": "qc",
   "language": "python",
   "name": "python3"
  },
  "language_info": {
   "codemirror_mode": {
    "name": "ipython",
    "version": 3
   },
   "file_extension": ".py",
   "mimetype": "text/x-python",
   "name": "python",
   "nbconvert_exporter": "python",
   "pygments_lexer": "ipython3",
   "version": "3.8.12"
  },
  "orig_nbformat": 4
 },
 "nbformat": 4,
 "nbformat_minor": 2
}
