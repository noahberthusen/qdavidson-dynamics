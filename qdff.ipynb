{
 "cells": [
  {
   "cell_type": "code",
   "execution_count": 126,
   "id": "47bea326",
   "metadata": {
    "ExecuteTime": {
     "end_time": "2023-06-13T20:10:14.684770Z",
     "start_time": "2023-06-13T20:10:14.670806Z"
    }
   },
   "outputs": [],
   "source": [
    "import numpy as np\n",
    "import copy\n",
    "from scipy.linalg import eigh, expm\n",
    "np.set_printoptions(precision=3, suppress=True)"
   ]
  },
  {
   "cell_type": "code",
   "execution_count": 127,
   "id": "8bad8c5b",
   "metadata": {
    "ExecuteTime": {
     "end_time": "2023-06-13T20:10:15.782048Z",
     "start_time": "2023-06-13T20:10:15.759143Z"
    }
   },
   "outputs": [],
   "source": [
    "# pauli matrices\n",
    "pauli = np.array([np.array([[1,0],[0,1]]), np.array([[0,1],[1,0]]), np.array([[0,-1.j],[1.j,0]]), np.array([[1,0],[0,-1]])])\n",
    "pauli_tensor = np.array([[np.kron(pauli[i], pauli[j]) for i in range(4)] for j in range(4)])\n",
    "\n",
    "# building operators \n",
    "def kronecker_pad(matrix, num_qubits, starting_site): \n",
    "    ''' pads a 1- or 2- local operator with identities on other sites to get 2^n by 2^n matrix '''\n",
    "    kron_list = [np.eye(2) for i in range(num_qubits)]    \n",
    "    kron_list[starting_site] = matrix\n",
    "    if matrix.shape[0] == 4: \n",
    "        del kron_list[starting_site+1]\n",
    "    \n",
    "    padded_matrix = kron_list[0]\n",
    "    for i in range(1, len(kron_list)):\n",
    "        padded_matrix = np.kron(kron_list[i], padded_matrix)    \n",
    "    return padded_matrix\n",
    "\n",
    "# models\n",
    "def heisenberg(num_qubits, bias_coeff=1.0, x_hopping_coeff=1.0, y_hopping_coeff=1.0, z_hopping_coeff=1.0): \n",
    "    terms = []\n",
    "    for i in range(num_qubits): \n",
    "        bias = bias_coeff*kronecker_pad(pauli[3], num_qubits, i)\n",
    "        terms.append(bias)\n",
    "        \n",
    "    for i in range(num_qubits-1): \n",
    "        z_hop = z_hopping_coeff*kronecker_pad(pauli_tensor[(3,3)], num_qubits, i)\n",
    "        terms.append(z_hop)\n",
    "        y_hop = y_hopping_coeff*kronecker_pad(pauli_tensor[(2,2)], num_qubits, i)\n",
    "        terms.append(y_hop)\n",
    "        x_hop = x_hopping_coeff*kronecker_pad(pauli_tensor[(1,1)], num_qubits, i)\n",
    "        terms.append(x_hop)\n",
    "    \n",
    "    return sum(terms)\n",
    "\n",
    "# used for initial guesses\n",
    "def basis_state(num_qubits, i): \n",
    "    state = np.zeros(2**num_qubits)\n",
    "    state[i] = 1.0 \n",
    "    return state"
   ]
  },
  {
   "cell_type": "code",
   "execution_count": 139,
   "id": "daf4e245",
   "metadata": {
    "ExecuteTime": {
     "end_time": "2023-06-13T20:13:43.908978Z",
     "start_time": "2023-06-13T20:13:43.888963Z"
    }
   },
   "outputs": [],
   "source": [
    "def correction_state(ham, energy, state, tau=0.0001):\n",
    "    #op = expm(-tau*(ham-energy))\n",
    "    #correction_state = op @ state\n",
    "    correction_state = ham @ state - energy*state\n",
    "    return correction_state / np.linalg.norm(correction_state)\n",
    "\n",
    "def eff_ham(ham, basis_set): \n",
    "    eff_H = np.eye(len(basis_set), dtype=complex)\n",
    "    for i in range(len(basis_set)): \n",
    "        for j in range(len(basis_set)): \n",
    "            eff_H[i][j] = basis_set[i].conj().T @ ham @ basis_set[j]\n",
    "    return eff_H    \n",
    "\n",
    "def eff_overlap(basis_set): \n",
    "    eff_S = np.eye(len(basis_set), dtype=complex)\n",
    "    for i in range(len(basis_set)): \n",
    "        for j in range(len(basis_set)): \n",
    "            eff_S[i][j] = basis_set[i].conj().T @ basis_set[j]\n",
    "    return eff_S\n",
    "    \n",
    "def qdavidson_iter(ham, basis_set, tol=0.5):\n",
    "    num_basis = len(basis_set)\n",
    "    eff_H = eff_ham(ham, basis_set)\n",
    "    eff_S = eff_overlap(basis_set)        \n",
    "    evals, evecs = eigh(eff_H, eff_S)\n",
    "    estates = [np.array(sum([evecs[:,i][j] * basis_set[j] for j in range(num_basis)])) for i in range(num_basis)]\n",
    "        \n",
    "    new_basis_set = copy.deepcopy(basis_set)\n",
    "    residue_vals = []\n",
    "    for i in range(num_basis): \n",
    "        val = np.linalg.norm((ham @ estates[i]) - (evals[i] * estates[i]))\n",
    "        residue_vals.append(val)\n",
    "        if val > tol: \n",
    "            state = correction_state(ham, evals[i], estates[i])            \n",
    "            if linear_independence(state, new_basis_set, eff_S, tol): \n",
    "                '''\n",
    "                eff_S = np.pad(eff_S, ((0, 1), (0, 1)), mode='constant')\n",
    "                for i in range(len(new_basis_set)):\n",
    "                    overlap = state.conj().T @ new_basis_set[i]\n",
    "                    eff_S[i][len(new_basis_set)] = overlap\n",
    "                    eff_S[len(new_basis_set)][i] = overlap\n",
    "                '''\n",
    "                new_basis_set.append(state)\n",
    "                eff_S = eff_overlap(new_basis_set)\n",
    "            \n",
    "    return evals, estates, residue_vals, new_basis_set\n",
    "\n",
    "def linear_independence(correction_vec, basis_set, eff_S, tol=0.01): \n",
    "    b = np.array([correction_vec.conj().T @ basis_set[i] for i in range(len(basis_set))])\n",
    "    return np.linalg.norm(np.linalg.pinv(eff_S) @ b) < tol    \n",
    "\n",
    "def qdavidson(ham, initial_basis_set, num_iter, tol=0.5): \n",
    "    basis_set = copy.deepcopy(initial_basis_set)\n",
    "    for i in range(num_iter): \n",
    "        evals, estates, residue_vals, basis_set = qdavidson_iter(ham, basis_set, tol)\n",
    "    return evals, estates, residue_vals, basis_set "
   ]
  },
  {
   "cell_type": "code",
   "execution_count": 140,
   "id": "cb4d76e0",
   "metadata": {
    "ExecuteTime": {
     "end_time": "2023-06-13T20:13:44.926761Z",
     "start_time": "2023-06-13T20:13:44.911794Z"
    }
   },
   "outputs": [
    {
     "data": {
      "text/plain": [
       "array([-6.464, -5.828, -3.828, -3.   , -1.828, -1.   , -1.   , -0.172,\n",
       "        0.464,  1.   ,  1.   ,  1.828,  3.   ,  3.828,  5.   ,  7.   ])"
      ]
     },
     "execution_count": 140,
     "metadata": {},
     "output_type": "execute_result"
    }
   ],
   "source": [
    "num_qubits = 4\n",
    "ham = heisenberg(num_qubits)\n",
    "evals, evecs = np.linalg.eigh(ham)\n",
    "evals"
   ]
  },
  {
   "cell_type": "code",
   "execution_count": 162,
   "id": "a56376e0",
   "metadata": {
    "ExecuteTime": {
     "end_time": "2023-06-13T20:16:15.792913Z",
     "start_time": "2023-06-13T20:16:15.760613Z"
    }
   },
   "outputs": [
    {
     "data": {
      "text/plain": [
       "array([-6.464, -3.828, -1.828,  0.464,  1.   ,  1.828,  3.   ,  3.828,\n",
       "        5.   ,  7.   ])"
      ]
     },
     "execution_count": 162,
     "metadata": {},
     "output_type": "execute_result"
    }
   ],
   "source": [
    "basis_set = [basis_state(num_qubits, i) for i in range(6)]\n",
    "evals, estates, residue_vals, basis_set = qdavidson(ham, basis_set, 4, tol=0.0001)\n",
    "evals"
   ]
  },
  {
   "cell_type": "code",
   "execution_count": 163,
   "id": "e28c8360",
   "metadata": {
    "ExecuteTime": {
     "end_time": "2023-06-13T20:16:19.297176Z",
     "start_time": "2023-06-13T20:16:19.280143Z"
    }
   },
   "outputs": [
    {
     "data": {
      "text/plain": [
       "[array([ 0.   +0.j,  0.   +0.j,  0.   +0.j,  0.149+0.j,  0.   +0.j,\n",
       "        -0.558+0.j,  0.408+0.j,  0.   +0.j,  0.   +0.j,  0.408+0.j,\n",
       "        -0.558+0.j,  0.   +0.j,  0.149+0.j,  0.   +0.j,  0.   +0.j,\n",
       "         0.   +0.j]),\n",
       " array([ 0.   +0.j, -0.   +0.j,  0.   +0.j, -0.271+0.j,  0.   +0.j,\n",
       "         0.653+0.j, -0.   +0.j,  0.   +0.j, -0.   +0.j, -0.   +0.j,\n",
       "        -0.653+0.j,  0.   +0.j,  0.271+0.j,  0.   +0.j,  0.   +0.j,\n",
       "         0.   +0.j]),\n",
       " array([ 0.   +0.j,  0.271+0.j, -0.653+0.j, -0.   +0.j,  0.653+0.j,\n",
       "        -0.   +0.j,  0.   +0.j,  0.   +0.j, -0.271+0.j,  0.   +0.j,\n",
       "        -0.   +0.j,  0.   +0.j,  0.   +0.j,  0.   +0.j,  0.   +0.j,\n",
       "         0.   +0.j]),\n",
       " array([ 0.   +0.j,  0.   +0.j, -0.   +0.j, -0.558+0.j,  0.   +0.j,\n",
       "         0.149+0.j,  0.408+0.j,  0.   +0.j, -0.   +0.j,  0.408+0.j,\n",
       "         0.149+0.j,  0.   +0.j, -0.558+0.j,  0.   +0.j,  0.   +0.j,\n",
       "         0.   +0.j]),\n",
       " array([ 0. +0.j,  0.5+0.j, -0.5+0.j,  0. +0.j, -0.5+0.j,  0. +0.j,\n",
       "        -0. +0.j,  0. +0.j,  0.5+0.j, -0. +0.j,  0. +0.j,  0. +0.j,\n",
       "        -0. +0.j,  0. +0.j,  0. +0.j,  0. +0.j]),\n",
       " array([ 0.   +0.j,  0.   +0.j,  0.   +0.j, -0.653+0.j,  0.   +0.j,\n",
       "        -0.271+0.j,  0.   +0.j,  0.   +0.j, -0.   +0.j,  0.   +0.j,\n",
       "         0.271+0.j,  0.   +0.j,  0.653+0.j,  0.   +0.j,  0.   +0.j,\n",
       "         0.   +0.j]),\n",
       " array([ 0.   +0.j,  0.   +0.j,  0.   +0.j, -0.408+0.j,  0.   +0.j,\n",
       "        -0.408+0.j, -0.408+0.j,  0.   +0.j, -0.   +0.j, -0.408+0.j,\n",
       "        -0.408+0.j,  0.   +0.j, -0.408+0.j,  0.   +0.j,  0.   +0.j,\n",
       "         0.   +0.j]),\n",
       " array([ 0.   +0.j,  0.653+0.j,  0.271+0.j, -0.   +0.j, -0.271+0.j,\n",
       "         0.   +0.j, -0.   +0.j,  0.   +0.j, -0.653+0.j, -0.   +0.j,\n",
       "        -0.   +0.j,  0.   +0.j,  0.   +0.j,  0.   +0.j,  0.   +0.j,\n",
       "         0.   +0.j]),\n",
       " array([ 0. +0.j,  0.5+0.j,  0.5+0.j,  0. +0.j,  0.5+0.j, -0. +0.j,\n",
       "         0. +0.j,  0. +0.j,  0.5+0.j,  0. +0.j,  0. +0.j,  0. +0.j,\n",
       "        -0. +0.j,  0. +0.j,  0. +0.j,  0. +0.j]),\n",
       " array([1.+0.j, 0.+0.j, 0.+0.j, 0.+0.j, 0.+0.j, 0.+0.j, 0.+0.j, 0.+0.j,\n",
       "        0.+0.j, 0.+0.j, 0.+0.j, 0.+0.j, 0.+0.j, 0.+0.j, 0.+0.j, 0.+0.j])]"
      ]
     },
     "execution_count": 163,
     "metadata": {},
     "output_type": "execute_result"
    }
   ],
   "source": [
    "estates"
   ]
  },
  {
   "cell_type": "code",
   "execution_count": 164,
   "id": "2bdc7fe1",
   "metadata": {
    "ExecuteTime": {
     "end_time": "2023-06-13T20:16:22.269421Z",
     "start_time": "2023-06-13T20:16:22.256656Z"
    }
   },
   "outputs": [
    {
     "data": {
      "text/plain": [
       "[2.676075093342767e-15,\n",
       " 4.0248529826355284e-15,\n",
       " 1.0648885158809838e-15,\n",
       " 1.2381600202446532e-15,\n",
       " 7.065416064076988e-16,\n",
       " 4.871083751574254e-16,\n",
       " 3.0847422370805075e-15,\n",
       " 4.440892098500626e-16,\n",
       " 1.538370149106851e-15,\n",
       " 0.0]"
      ]
     },
     "execution_count": 164,
     "metadata": {},
     "output_type": "execute_result"
    }
   ],
   "source": [
    "residue_vals"
   ]
  },
  {
   "cell_type": "code",
   "execution_count": 150,
   "id": "87fe9e06",
   "metadata": {
    "ExecuteTime": {
     "end_time": "2023-06-13T20:14:48.971360Z",
     "start_time": "2023-06-13T20:14:48.960573Z"
    }
   },
   "outputs": [
    {
     "data": {
      "text/plain": [
       "[array([1., 0., 0., 0., 0., 0., 0., 0., 0., 0., 0., 0., 0., 0., 0., 0.]),\n",
       " array([0., 1., 0., 0., 0., 0., 0., 0., 0., 0., 0., 0., 0., 0., 0., 0.]),\n",
       " array([0., 0., 1., 0., 0., 0., 0., 0., 0., 0., 0., 0., 0., 0., 0., 0.]),\n",
       " array([0., 0., 0., 1., 0., 0., 0., 0., 0., 0., 0., 0., 0., 0., 0., 0.]),\n",
       " array([0., 0., 0., 0., 1., 0., 0., 0., 0., 0., 0., 0., 0., 0., 0., 0.]),\n",
       " array([0., 0., 0., 0., 0., 1., 0., 0., 0., 0., 0., 0., 0., 0., 0., 0.]),\n",
       " array([ 0.   +0.j,  0.   +0.j,  0.   +0.j, -0.   +0.j,  0.   +0.j,\n",
       "         0.   +0.j,  0.707+0.j,  0.   +0.j,  0.   +0.j,  0.707+0.j,\n",
       "         0.   +0.j,  0.   +0.j,  0.   +0.j,  0.   +0.j,  0.   +0.j,\n",
       "         0.   +0.j]),\n",
       " array([ 0.+0.j,  0.+0.j,  0.+0.j,  0.+0.j,  0.+0.j,  0.+0.j,  0.+0.j,\n",
       "         0.+0.j, -1.+0.j,  0.+0.j,  0.+0.j,  0.+0.j,  0.+0.j,  0.+0.j,\n",
       "         0.+0.j,  0.+0.j]),\n",
       " array([ 0.+0.j,  0.+0.j,  0.+0.j, -0.+0.j, -0.+0.j,  0.+0.j,  0.+0.j,\n",
       "         0.+0.j, -0.+0.j,  0.+0.j,  1.+0.j,  0.+0.j,  0.+0.j,  0.+0.j,\n",
       "         0.+0.j,  0.+0.j]),\n",
       " array([ 0.+0.j,  0.+0.j,  0.+0.j,  0.+0.j, -0.+0.j,  0.+0.j,  0.+0.j,\n",
       "         0.+0.j, -0.+0.j,  0.+0.j, -0.+0.j,  0.+0.j, -1.+0.j,  0.+0.j,\n",
       "         0.+0.j,  0.+0.j])]"
      ]
     },
     "execution_count": 150,
     "metadata": {},
     "output_type": "execute_result"
    }
   ],
   "source": [
    "basis_set"
   ]
  },
  {
   "cell_type": "code",
   "execution_count": null,
   "id": "e0d86152",
   "metadata": {},
   "outputs": [],
   "source": []
  },
  {
   "cell_type": "code",
   "execution_count": null,
   "id": "33a443ec",
   "metadata": {},
   "outputs": [],
   "source": []
  }
 ],
 "metadata": {
  "kernelspec": {
   "display_name": "Python [conda env:snowflakes] *",
   "language": "python",
   "name": "conda-env-snowflakes-py"
  },
  "language_info": {
   "codemirror_mode": {
    "name": "ipython",
    "version": 3
   },
   "file_extension": ".py",
   "mimetype": "text/x-python",
   "name": "python",
   "nbconvert_exporter": "python",
   "pygments_lexer": "ipython3",
   "version": "3.9.13"
  },
  "toc": {
   "base_numbering": 1,
   "nav_menu": {},
   "number_sections": true,
   "sideBar": true,
   "skip_h1_title": false,
   "title_cell": "Table of Contents",
   "title_sidebar": "Contents",
   "toc_cell": false,
   "toc_position": {},
   "toc_section_display": true,
   "toc_window_display": false
  }
 },
 "nbformat": 4,
 "nbformat_minor": 5
}
