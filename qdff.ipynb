{
 "cells": [
  {
   "cell_type": "code",
   "execution_count": 6,
   "id": "47bea326",
   "metadata": {
    "ExecuteTime": {
     "end_time": "2023-06-13T19:23:48.977590Z",
     "start_time": "2023-06-13T19:23:48.958639Z"
    }
   },
   "outputs": [],
   "source": [
    "import numpy as np\n",
    "import copy\n",
    "from scipy.linalg import eigh, expm"
   ]
  },
  {
   "cell_type": "code",
   "execution_count": 2,
   "id": "8bad8c5b",
   "metadata": {
    "ExecuteTime": {
     "end_time": "2023-06-13T19:23:41.781413Z",
     "start_time": "2023-06-13T19:23:41.743426Z"
    }
   },
   "outputs": [],
   "source": [
    "# pauli matrices\n",
    "pauli = np.array([np.array([[1,0],[0,1]]), np.array([[0,1],[1,0]]), np.array([[0,-1.j],[1.j,0]]), np.array([[1,0],[0,-1]])])\n",
    "pauli_tensor = np.array([[np.kron(pauli[i], pauli[j]) for i in range(4)] for j in range(4)])\n",
    "\n",
    "# building operators \n",
    "def kronecker_pad(matrix, num_qubits, starting_site): \n",
    "    kron_list = [np.eye(2) for i in range(num_qubits)]    \n",
    "    kron_list[starting_site] = matrix\n",
    "    if matrix.shape[0] == 4: \n",
    "        del kron_list[starting_site+1]\n",
    "    \n",
    "    padded_matrix = kron_list[0]\n",
    "    for i in range(1, len(kron_list)):\n",
    "        padded_matrix = np.kron(kron_list[i], padded_matrix)    \n",
    "    return padded_matrix\n",
    "\n",
    "# models\n",
    "def heisenberg(num_qubits, bias_coeff=1.0, x_hopping_coeff=1.0, y_hopping_coeff=1.0, z_hopping_coeff=1.0): \n",
    "    terms = []\n",
    "    for i in range(num_qubits): \n",
    "        bias = bias_coeff*kronecker_pad(pauli[3], num_qubits, i)\n",
    "        terms.append(bias)\n",
    "        \n",
    "    for i in range(num_qubits-1): \n",
    "        z_hop = z_hopping_coeff*kronecker_pad(pauli_tensor[(3,3)], num_qubits, i)\n",
    "        terms.append(z_hop)\n",
    "        y_hop = y_hopping_coeff*kronecker_pad(pauli_tensor[(2,2)], num_qubits, i)\n",
    "        terms.append(y_hop)\n",
    "        x_hop = x_hopping_coeff*kronecker_pad(pauli_tensor[(1,1)], num_qubits, i)\n",
    "        terms.append(x_hop)\n",
    "    \n",
    "    return sum(terms)\n",
    "\n",
    "# used for initial guesses\n",
    "def basis_state(num_qubits, i): \n",
    "    state = np.zeros(2**num_qubits)\n",
    "    state[i] = 1.0 \n",
    "    return state"
   ]
  },
  {
   "cell_type": "code",
   "execution_count": 3,
   "id": "a47ac27b",
   "metadata": {
    "ExecuteTime": {
     "end_time": "2023-06-13T19:23:41.910348Z",
     "start_time": "2023-06-13T19:23:41.783191Z"
    }
   },
   "outputs": [
    {
     "data": {
      "text/plain": [
       "array([-6.46410162, -5.82842712, -3.82842712, -3.        , -1.82842712,\n",
       "       -1.        , -1.        , -0.17157288,  0.46410162,  1.        ,\n",
       "        1.        ,  1.82842712,  3.        ,  3.82842712,  5.        ,\n",
       "        7.        ])"
      ]
     },
     "execution_count": 3,
     "metadata": {},
     "output_type": "execute_result"
    }
   ],
   "source": [
    "ham = heisenberg(4)\n",
    "evals, evecs = np.linalg.eigh(ham)\n",
    "evals"
   ]
  },
  {
   "cell_type": "code",
   "execution_count": 37,
   "id": "daf4e245",
   "metadata": {
    "ExecuteTime": {
     "end_time": "2023-06-13T19:35:19.400723Z",
     "start_time": "2023-06-13T19:35:19.378804Z"
    }
   },
   "outputs": [],
   "source": [
    "def correction_state(ham, energy, state, tau=0.01):\n",
    "    #op = expm(-tau*(ham-energy))\n",
    "    #correction_state = op @ state\n",
    "    correction_state = ham @ state - energy*state\n",
    "    return correction_state / np.linalg.norm(correction_state)\n",
    "    \n",
    "def qdavidson_iter(ham, basis_set, tol=0.5):\n",
    "    num_basis = len(basis_set)\n",
    "    eff_H = np.eye(num_basis, dtype=complex)\n",
    "    eff_S = np.eye(num_basis, dtype=complex)\n",
    "    for i in range(num_basis): \n",
    "        for j in range(num_basis): \n",
    "            eff_H[i][j] = basis_set[i].conj().T @ ham @ basis_set[j]\n",
    "            eff_S[i][j] = basis_set[i].conj().T @ basis_set[j]\n",
    "            \n",
    "    evals, evecs = eigh(eff_H, eff_S)\n",
    "    estates = [np.array(sum([evecs[:,i][j] * basis_set[j] for j in range(num_basis)])) for i in range(num_basis)]\n",
    "        \n",
    "    new_basis_set = copy.deepcopy(basis_set)\n",
    "    residue_vals = []\n",
    "    for i in range(num_basis): \n",
    "        val = np.linalg.norm((ham @ estates[i]) - (evals[i] * estates[i]))\n",
    "        residue_vals.append(val)\n",
    "        if val > tol: \n",
    "            state = correction_state(ham, evals[i], estates[i])\n",
    "            #print(state)\n",
    "            if linear_independence(state, basis_set, eff_S, tol): \n",
    "                new_basis_set.append(state)\n",
    "            \n",
    "    return evals, estates, residue_vals, new_basis_set\n",
    "\n",
    "def linear_independence(correction_vec, basis_set, eff_S, tol=0.5): \n",
    "    b = np.array([correction_vec.conj().T @ basis_set[i] for i in range(len(basis_set))])\n",
    "    return np.linalg.norm(np.linalg.pinv(eff_S) @ b) < tol    \n",
    "\n",
    "def qdavidson(ham, initial_basis_set, num_iter, tol=0.5): \n",
    "    basis_set = copy.deepcopy(initial_basis_set)\n",
    "    for i in range(num_iter): \n",
    "        evals, estates, residue_vals, basis_set = qdavidson_iter(ham, basis_set, tol)\n",
    "    return basis_set, evals"
   ]
  },
  {
   "cell_type": "code",
   "execution_count": 38,
   "id": "cb4d76e0",
   "metadata": {
    "ExecuteTime": {
     "end_time": "2023-06-13T19:35:19.898362Z",
     "start_time": "2023-06-13T19:35:19.874085Z"
    }
   },
   "outputs": [],
   "source": [
    "num_qubits = 4\n",
    "ham = heisenberg(num_qubits)\n",
    "basis_set = [basis_state(num_qubits, i) for i in range(4)]\n",
    "evals, estates, residue_vals, new_basis_set = qdavidson_iter(ham, basis_set)"
   ]
  },
  {
   "cell_type": "code",
   "execution_count": 39,
   "id": "d361cd59",
   "metadata": {
    "ExecuteTime": {
     "end_time": "2023-06-13T19:35:20.410327Z",
     "start_time": "2023-06-13T19:35:20.400386Z"
    }
   },
   "outputs": [
    {
     "data": {
      "text/plain": [
       "array([-0.23606798,  1.        ,  4.23606798,  7.        ])"
      ]
     },
     "execution_count": 39,
     "metadata": {},
     "output_type": "execute_result"
    }
   ],
   "source": [
    "evals"
   ]
  },
  {
   "cell_type": "code",
   "execution_count": 40,
   "id": "9a62f9d4",
   "metadata": {
    "ExecuteTime": {
     "end_time": "2023-06-13T19:35:20.763854Z",
     "start_time": "2023-06-13T19:35:20.753647Z"
    }
   },
   "outputs": [
    {
     "data": {
      "text/plain": [
       "[1.7013016167040798, 2.0, 1.051462224238267, 0.0]"
      ]
     },
     "execution_count": 40,
     "metadata": {},
     "output_type": "execute_result"
    }
   ],
   "source": [
    "residue_vals"
   ]
  },
  {
   "cell_type": "code",
   "execution_count": 41,
   "id": "31889123",
   "metadata": {
    "ExecuteTime": {
     "end_time": "2023-06-13T19:35:20.963552Z",
     "start_time": "2023-06-13T19:35:20.944023Z"
    }
   },
   "outputs": [
    {
     "data": {
      "text/plain": [
       "[array([1., 0., 0., 0., 0., 0., 0., 0., 0., 0., 0., 0., 0., 0., 0., 0.]),\n",
       " array([0., 1., 0., 0., 0., 0., 0., 0., 0., 0., 0., 0., 0., 0., 0., 0.]),\n",
       " array([0., 0., 1., 0., 0., 0., 0., 0., 0., 0., 0., 0., 0., 0., 0., 0.]),\n",
       " array([0., 0., 0., 1., 0., 0., 0., 0., 0., 0., 0., 0., 0., 0., 0., 0.]),\n",
       " array([ 0.00000000e+00+0.j, -1.71300339e-16+0.j, -9.78859081e-17+0.j,\n",
       "         0.00000000e+00+0.j, -1.00000000e+00+0.j,  0.00000000e+00+0.j,\n",
       "         0.00000000e+00+0.j,  0.00000000e+00+0.j,  0.00000000e+00+0.j,\n",
       "         0.00000000e+00+0.j,  0.00000000e+00+0.j,  0.00000000e+00+0.j,\n",
       "         0.00000000e+00+0.j,  0.00000000e+00+0.j,  0.00000000e+00+0.j,\n",
       "         0.00000000e+00+0.j]),\n",
       " array([0.+0.j, 0.+0.j, 0.+0.j, 0.+0.j, 0.+0.j, 1.+0.j, 0.+0.j, 0.+0.j,\n",
       "        0.+0.j, 0.+0.j, 0.+0.j, 0.+0.j, 0.+0.j, 0.+0.j, 0.+0.j, 0.+0.j]),\n",
       " array([ 0.00000000e+00+0.j,  4.22353937e-16+0.j, -4.22353937e-16+0.j,\n",
       "         0.00000000e+00+0.j, -1.00000000e+00+0.j,  0.00000000e+00+0.j,\n",
       "         0.00000000e+00+0.j,  0.00000000e+00+0.j,  0.00000000e+00+0.j,\n",
       "         0.00000000e+00+0.j,  0.00000000e+00+0.j,  0.00000000e+00+0.j,\n",
       "         0.00000000e+00+0.j,  0.00000000e+00+0.j,  0.00000000e+00+0.j,\n",
       "         0.00000000e+00+0.j])]"
      ]
     },
     "execution_count": 41,
     "metadata": {},
     "output_type": "execute_result"
    }
   ],
   "source": [
    "new_basis_set"
   ]
  },
  {
   "cell_type": "code",
   "execution_count": 42,
   "id": "130c7d03",
   "metadata": {
    "ExecuteTime": {
     "end_time": "2023-06-13T19:35:21.113750Z",
     "start_time": "2023-06-13T19:35:21.084078Z"
    }
   },
   "outputs": [
    {
     "data": {
      "text/plain": [
       "[array([ 0.        +0.j,  0.52573111+0.j, -0.85065081+0.j,  0.        +0.j,\n",
       "         0.        +0.j,  0.        +0.j,  0.        +0.j,  0.        +0.j,\n",
       "         0.        +0.j,  0.        +0.j,  0.        +0.j,  0.        +0.j,\n",
       "         0.        +0.j,  0.        +0.j,  0.        +0.j,  0.        +0.j]),\n",
       " array([0.+0.j, 0.+0.j, 0.+0.j, 1.+0.j, 0.+0.j, 0.+0.j, 0.+0.j, 0.+0.j,\n",
       "        0.+0.j, 0.+0.j, 0.+0.j, 0.+0.j, 0.+0.j, 0.+0.j, 0.+0.j, 0.+0.j]),\n",
       " array([ 0.        +0.j, -0.85065081+0.j, -0.52573111+0.j,  0.        +0.j,\n",
       "         0.        +0.j,  0.        +0.j,  0.        +0.j,  0.        +0.j,\n",
       "         0.        +0.j,  0.        +0.j,  0.        +0.j,  0.        +0.j,\n",
       "         0.        +0.j,  0.        +0.j,  0.        +0.j,  0.        +0.j]),\n",
       " array([1.+0.j, 0.+0.j, 0.+0.j, 0.+0.j, 0.+0.j, 0.+0.j, 0.+0.j, 0.+0.j,\n",
       "        0.+0.j, 0.+0.j, 0.+0.j, 0.+0.j, 0.+0.j, 0.+0.j, 0.+0.j, 0.+0.j])]"
      ]
     },
     "execution_count": 42,
     "metadata": {},
     "output_type": "execute_result"
    }
   ],
   "source": [
    "estates"
   ]
  },
  {
   "cell_type": "code",
   "execution_count": 43,
   "id": "8ec44e5d",
   "metadata": {
    "ExecuteTime": {
     "end_time": "2023-06-13T19:35:21.263861Z",
     "start_time": "2023-06-13T19:35:21.248759Z"
    }
   },
   "outputs": [
    {
     "data": {
      "text/plain": [
       "array([ 0.        +0.j, -0.12410828+0.j,  0.20081142+0.j,  0.        +0.j,\n",
       "       -1.70130162+0.j,  0.        +0.j,  0.        +0.j,  0.        +0.j,\n",
       "        0.        +0.j,  0.        +0.j,  0.        +0.j,  0.        +0.j,\n",
       "        0.        +0.j,  0.        +0.j,  0.        +0.j,  0.        +0.j])"
      ]
     },
     "execution_count": 43,
     "metadata": {},
     "output_type": "execute_result"
    }
   ],
   "source": [
    "ham @ estates[0]"
   ]
  },
  {
   "cell_type": "code",
   "execution_count": 44,
   "id": "93f0f88a",
   "metadata": {
    "ExecuteTime": {
     "end_time": "2023-06-13T19:35:21.681447Z",
     "start_time": "2023-06-13T19:35:21.666383Z"
    }
   },
   "outputs": [
    {
     "data": {
      "text/plain": [
       "array([ 0.00000000e+00+0.j, -2.91433544e-16+0.j, -1.66533454e-16+0.j,\n",
       "        0.00000000e+00+0.j, -1.70130162e+00+0.j,  0.00000000e+00+0.j,\n",
       "        0.00000000e+00+0.j,  0.00000000e+00+0.j,  0.00000000e+00+0.j,\n",
       "        0.00000000e+00+0.j,  0.00000000e+00+0.j,  0.00000000e+00+0.j,\n",
       "        0.00000000e+00+0.j,  0.00000000e+00+0.j,  0.00000000e+00+0.j,\n",
       "        0.00000000e+00+0.j])"
      ]
     },
     "execution_count": 44,
     "metadata": {},
     "output_type": "execute_result"
    }
   ],
   "source": [
    "ham @ estates[0] - evals[0] * estates[0]"
   ]
  },
  {
   "cell_type": "code",
   "execution_count": 45,
   "id": "2a672340",
   "metadata": {
    "ExecuteTime": {
     "end_time": "2023-06-13T19:35:21.866376Z",
     "start_time": "2023-06-13T19:35:21.853877Z"
    }
   },
   "outputs": [
    {
     "data": {
      "text/plain": [
       "array([ 0.        +0.j,  0.52573111+0.j, -0.85065081+0.j,  0.        +0.j,\n",
       "        0.        +0.j,  0.        +0.j,  0.        +0.j,  0.        +0.j,\n",
       "        0.        +0.j,  0.        +0.j,  0.        +0.j,  0.        +0.j,\n",
       "        0.        +0.j,  0.        +0.j,  0.        +0.j,  0.        +0.j])"
      ]
     },
     "execution_count": 45,
     "metadata": {},
     "output_type": "execute_result"
    }
   ],
   "source": [
    "estates[0]"
   ]
  },
  {
   "cell_type": "code",
   "execution_count": null,
   "id": "be02babd",
   "metadata": {},
   "outputs": [],
   "source": []
  },
  {
   "cell_type": "code",
   "execution_count": null,
   "id": "b0043394",
   "metadata": {},
   "outputs": [],
   "source": []
  },
  {
   "cell_type": "code",
   "execution_count": null,
   "id": "5bbc8cb1",
   "metadata": {},
   "outputs": [],
   "source": []
  }
 ],
 "metadata": {
  "kernelspec": {
   "display_name": "Python [conda env:snowflakes] *",
   "language": "python",
   "name": "conda-env-snowflakes-py"
  },
  "language_info": {
   "codemirror_mode": {
    "name": "ipython",
    "version": 3
   },
   "file_extension": ".py",
   "mimetype": "text/x-python",
   "name": "python",
   "nbconvert_exporter": "python",
   "pygments_lexer": "ipython3",
   "version": "3.9.13"
  },
  "toc": {
   "base_numbering": 1,
   "nav_menu": {},
   "number_sections": true,
   "sideBar": true,
   "skip_h1_title": false,
   "title_cell": "Table of Contents",
   "title_sidebar": "Contents",
   "toc_cell": false,
   "toc_position": {},
   "toc_section_display": true,
   "toc_window_display": false
  }
 },
 "nbformat": 4,
 "nbformat_minor": 5
}
