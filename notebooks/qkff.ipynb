{
 "cells": [
  {
   "cell_type": "code",
   "execution_count": 1,
   "metadata": {},
   "outputs": [],
   "source": [
    "import numpy as np\n",
    "from scipy.sparse.linalg import expm_multiply, expm\n",
    "import matplotlib.pyplot as plt\n",
    "from qiskit.synthesis import SuzukiTrotter\n",
    "from scipy.optimize import minimize, linprog\n",
    "from scipy.linalg import eigh, eig\n",
    "import random\n",
    "import cmath"
   ]
  },
  {
   "cell_type": "code",
   "execution_count": 74,
   "metadata": {},
   "outputs": [],
   "source": [
    "# pauli matrices\n",
    "pauli = np.array([np.array([[1,0],[0,1]]), np.array([[0,1],[1,0]]), np.array([[0,-1.j],[1.j,0]]), np.array([[1,0],[0,-1]])])\n",
    "pauli_tensor = np.array([[np.kron(pauli[i], pauli[j]) for i in range(4)] for j in range(4)])\n",
    "\n",
    "# building operators \n",
    "def kronecker_pad(matrix, num_qubits, starting_site): \n",
    "    ''' pads a 1- or 2- local operator with identities on other sites to get 2^n by 2^n matrix '''\n",
    "    kron_list = [np.eye(2) for i in range(num_qubits)]    \n",
    "    kron_list[starting_site] = matrix\n",
    "    if matrix.shape[0] == 4: \n",
    "        del kron_list[starting_site+1]\n",
    "    \n",
    "    padded_matrix = kron_list[0]\n",
    "    for i in range(1, len(kron_list)):\n",
    "        padded_matrix = np.kron(kron_list[i], padded_matrix)    \n",
    "    return padded_matrix\n",
    "\n",
    "# models\n",
    "def heisenberg(num_qubits, bias_coeff=1.0, x_hopping_coeff=1.0, y_hopping_coeff=1.0, z_hopping_coeff=1.0): \n",
    "    terms = []\n",
    "    for i in range(num_qubits): \n",
    "        bias = bias_coeff*kronecker_pad(pauli[3], num_qubits, i)\n",
    "        terms.append(bias)\n",
    "        \n",
    "    for i in range(num_qubits-1): \n",
    "        z_hop = z_hopping_coeff*kronecker_pad(pauli_tensor[(3,3)], num_qubits, i)\n",
    "        terms.append(z_hop)\n",
    "        y_hop = y_hopping_coeff*kronecker_pad(pauli_tensor[(2,2)], num_qubits, i)\n",
    "        terms.append(y_hop)\n",
    "        x_hop = x_hopping_coeff*kronecker_pad(pauli_tensor[(1,1)], num_qubits, i)\n",
    "        terms.append(x_hop)\n",
    "    \n",
    "    return sum(terms)\n",
    "\n",
    "def xy(num_qubits, x_hopping_coeff=1.0, y_hopping_coeff=1.0):\n",
    "    terms = []\n",
    "\n",
    "    for i in range(num_qubits-1):\n",
    "        x_hop = x_hopping_coeff*kronecker_pad(pauli_tensor[(1,1)], num_qubits, i)\n",
    "        terms.append(x_hop)\n",
    "        y_hop = x_hopping_coeff*kronecker_pad(pauli_tensor[(2,2)], num_qubits, i)\n",
    "        terms.append(y_hop)\n",
    "\n",
    "    return sum(terms)\n",
    "\n",
    "n = 2\n",
    "H = heisenberg(n)\n",
    "# H = xy(n)"
   ]
  },
  {
   "cell_type": "code",
   "execution_count": 75,
   "metadata": {},
   "outputs": [],
   "source": [
    "# def compute_Hkl(ref_states, Ham):\n",
    "#     dim = len(ref_states)\n",
    "#     Hkl = np.zeros((dim, dim), dtype=np.complex64)\n",
    "\n",
    "#     for i in range(dim):\n",
    "#         for j in range(dim):\n",
    "#             Hkl[i][j] = (np.conj(ref_states[i]) @ Ham @ ref_states[j])\n",
    "#     return Hkl\n",
    "\n",
    "# def compute_S(ref_states):\n",
    "#     dim = len(ref_states)\n",
    "#     S = np.zeros((dim, dim), dtype=np.complex64)\n",
    "\n",
    "#     for i in range(dim):\n",
    "#         for j in range(dim):\n",
    "#             S[i][j] = (np.conj(ref_states[i]) @ ref_states[j])\n",
    "#     return S\n",
    "\n",
    "def compute_Hkl(Ham, basis_set): \n",
    "    eff_H = np.eye(len(basis_set), dtype=complex)\n",
    "    for i in range(len(basis_set)): \n",
    "        for j in range(len(basis_set)): \n",
    "            eff_H[i][j] = basis_set[i].conj().T @ Ham @ basis_set[j]\n",
    "    return eff_H    \n",
    "\n",
    "def compute_S(basis_set): \n",
    "    eff_S = np.eye(len(basis_set), dtype=complex)\n",
    "    for i in range(len(basis_set)): \n",
    "        for j in range(len(basis_set)): \n",
    "            eff_S[i][j] = basis_set[i].conj().T @ basis_set[j]\n",
    "    return eff_S\n",
    "\n",
    "def random_initial_state(n):\n",
    "    components = [complex(random.uniform(-1, 1), random.uniform(-1, 1)) for _ in range(n)]\n",
    "    magnitude = cmath.sqrt(sum(comp.real**2 + comp.imag**2 for comp in components))\n",
    "    normalized_vector = [comp / magnitude for comp in components]\n",
    "    \n",
    "    return np.array(normalized_vector)"
   ]
  },
  {
   "cell_type": "code",
   "execution_count": 88,
   "metadata": {},
   "outputs": [],
   "source": [
    "tf = 10\n",
    "ts = np.linspace(0, tf, 200)\n",
    "\n",
    "# init = random_initial_state(2**n)\n",
    "\n",
    "c = list(\"01\") \n",
    "UnitVector = lambda c: np.eye(2**n)[c]\n",
    "init = UnitVector(int(''.join(c), 2))\n",
    "\n",
    "ref_states = [init]\n",
    "added_indices = []\n",
    "M = 8\n",
    "num_ref_states = 1\n",
    "tau = 0.1\n",
    "\n",
    "expm_est = expm(-1j * tau * H) # should be trotterized really, eventually\n",
    "\n",
    "for j in range(num_ref_states):\n",
    "    for i in range(1, M):\n",
    "        new_states = []\n",
    "        new_states.append(expm_multiply(-1j * i * tau * H, ref_states[-1]))\n",
    "        ref_states.extend(new_states)\n",
    "    if (j < num_ref_states - 1):\n",
    "        # should take second most probable if the first one is already in there\n",
    "        xs = np.eye(2**n)\n",
    "        # probs = [ np.abs(np.conj(x) @ ref_states[-1])**2 for x in xs]\n",
    "        # ref_states.append(xs[np.argmax(probs)])\n",
    "\n",
    "        sorted_probs_inds = np.argsort([np.abs(np.conj(x) @ ref_states[-1])**2 for x in xs])[::-1]\n",
    "        for k in range(len(sorted_probs_inds)):\n",
    "            if not (sorted_probs_inds[k] in added_indices):\n",
    "                ref_states.append(xs[sorted_probs_inds[k]])\n",
    "                added_indices.append(sorted_probs_inds[k])\n",
    "                break"
   ]
  },
  {
   "cell_type": "code",
   "execution_count": 89,
   "metadata": {},
   "outputs": [
    {
     "name": "stdout",
     "output_type": "stream",
     "text": [
      "[0.        +0.j         0.78847323+0.24390335j 0.16686326-0.53942356j\n",
      " 0.        +0.j        ]\n"
     ]
    }
   ],
   "source": [
    "print(ref_states[2])"
   ]
  },
  {
   "cell_type": "code",
   "execution_count": 90,
   "metadata": {},
   "outputs": [
    {
     "name": "stdout",
     "output_type": "stream",
     "text": [
      "[[ 1.        +0.j          0.97517033+0.0978434j   0.78847323+0.24390335j\n",
      "   0.29906676+0.20460258j -0.2248451 -0.35017549j -0.0700293 -0.98751255j\n",
      "   0.24750627-0.42319773j -0.7307555 +0.25980538j]\n",
      " [ 0.97517033-0.0978434j   1.        +0.j          0.9027011 +0.18298657j\n",
      "   0.47415988+0.25903472j -0.14123109-0.17797351j -0.16014684-0.92851275j\n",
      "   0.27201173-0.59435646j -0.57380815+0.27125497j]\n",
      " [ 0.78847323-0.24390335j  0.9027011 -0.18298657j  1.        +0.j\n",
      "   0.78847323+0.24390335j  0.12999804+0.10949584j -0.26720033-0.68727976j\n",
      "   0.20374539-0.87330606j -0.22725415+0.16976392j]\n",
      " [ 0.29906676-0.20460258j  0.47415988-0.25903472j  0.78847323-0.24390335j\n",
      "   1.        +0.j          0.64170937+0.27131037j -0.14123109-0.17797351j\n",
      "  -0.0700293 -0.98751255j  0.18086574-0.24847752j]\n",
      " [-0.2248451 +0.35017549j -0.14123109+0.17797351j  0.12999804-0.10949584j\n",
      "   0.64170937-0.27131037j  1.        +0.j          0.47415988+0.25903472j\n",
      "  -0.26694182-0.52447653j  0.20374539-0.87330606j]\n",
      " [-0.0700293 +0.98751255j -0.16014684+0.92851275j -0.26720033+0.68727976j\n",
      "  -0.14123109+0.17797351j  0.47415988-0.25903472j  1.        +0.j\n",
      "   0.29906676+0.20460258j -0.22921674-0.82566217j]\n",
      " [ 0.24750627+0.42319773j  0.27201173+0.59435646j  0.20374539+0.87330606j\n",
      "  -0.0700293 +0.98751255j -0.26694182+0.52447653j  0.29906676-0.20460258j\n",
      "   1.        +0.j          0.12999804+0.10949584j]\n",
      " [-0.7307555 -0.25980538j -0.57380815-0.27125497j -0.22725415-0.16976392j\n",
      "   0.18086574+0.24847752j  0.20374539+0.87330606j -0.22921674+0.82566217j\n",
      "   0.12999804-0.10949584j  1.        +0.j        ]]\n",
      "[4.87453160e+00 3.12546840e+00 5.13978444e-16 4.25624415e-16\n",
      " 2.89142513e-16 1.74726013e-16 9.50608907e-17 2.36869431e-17]\n"
     ]
    }
   ],
   "source": [
    "Hkl = compute_Hkl(H, ref_states)\n",
    "S = compute_S(ref_states)\n",
    "print(S)\n",
    "\n",
    "U, D, Vh = np.linalg.svd(S)\n",
    "print(D)\n",
    "eps = 1e-5\n",
    "D[np.abs(D) < eps] = 0\n",
    "D_inv = [1/d if d > 0 else 0 for d in D]\n",
    "S_inv = Vh.conj().T @ np.diag(D_inv) @ U.conj().T\n",
    "\n",
    "# c0 = np.linalg.inv(S) @ S[:,0]\n",
    "c0 = np.zeros(len(ref_states))\n",
    "c0[0] = 1\n",
    "# c0"
   ]
  },
  {
   "cell_type": "code",
   "execution_count": 91,
   "metadata": {},
   "outputs": [],
   "source": [
    "def QKFFEvolve(t, init):\n",
    "    ct = expm(-1j * t * S_inv @ Hkl) @ init\n",
    "    return sum([ct[i] * ref_states[i] for i in range(len(ct))])\n",
    "\n",
    "# exact_te = [expm_multiply(-1j * H * t, init) for t in ts]\n",
    "qkff_te = [QKFFEvolve(t, c0) for t in ts]"
   ]
  },
  {
   "cell_type": "code",
   "execution_count": 92,
   "metadata": {},
   "outputs": [
    {
     "name": "stdout",
     "output_type": "stream",
     "text": [
      "8\n",
      "0.9999999999999865\n"
     ]
    }
   ],
   "source": [
    "print(len(ref_states))\n",
    "exact_final_te = expm_multiply(-1j * H * ts[-1], init)\n",
    "qkff_final_te = QKFFEvolve(ts[-1], c0)\n",
    "print(np.abs(np.conj(exact_final_te) @ qkff_final_te)**2)"
   ]
  },
  {
   "cell_type": "code",
   "execution_count": 73,
   "metadata": {},
   "outputs": [
    {
     "data": {
      "text/plain": [
       "<matplotlib.legend.Legend at 0x28eac972ca0>"
      ]
     },
     "execution_count": 73,
     "metadata": {},
     "output_type": "execute_result"
    },
    {
     "data": {
      "image/png": "[encoded data removed]",
      "text/plain": [
       "<Figure size 432x288 with 1 Axes>"
      ]
     },
     "metadata": {
      "needs_background": "light"
     },
     "output_type": "display_data"
    }
   ],
   "source": [
    "# O = np.kron(np.kron(np.kron(I,I),Z), np.kron(I,I))\n",
    "# O = np.kron(Z,I)\n",
    "# O = np.kron(Z, np.kron(I,I))\n",
    "\n",
    "fidelity = [np.abs(np.conj(psi) @ phi)**2 for psi,phi in zip(exact_te, qkff_te)]\n",
    "\n",
    "\n",
    "# exact_Z1 = [(np.conj(psi) @ O @ psi).real for psi in exact_te]\n",
    "# qkff_Z1 = [(np.conj(psi) @ O @ psi).real for psi in qkff_te]\n",
    "\n",
    "exact_auto = [(np.conj(init) @ psi).real for psi in exact_te]\n",
    "qkff_auto = [(np.conj(init) @ psi).real for psi in qkff_te]\n",
    "\n",
    "\n",
    "# plt.plot(ts, exact_Z1, label=\"Theoretical\")\n",
    "# plt.plot(ts, qkff_Z1, \"r--\", label=\"QKFF\")\n",
    "plt.plot(ts, fidelity, 'k', label=\"Fidelity\")\n",
    "\n",
    "plt.plot(ts, exact_auto, label=\"Exact auto\")\n",
    "plt.plot(ts, qkff_auto, \"r--\", label=\"QKFF auto\")\n",
    "\n",
    "# plt.plot(ts, qkff_Z1, 'r--', label=\"QKFF, R=1, M=6\")\n",
    "plt.legend(loc='upper right')"
   ]
  },
  {
   "cell_type": "code",
   "execution_count": null,
   "metadata": {},
   "outputs": [],
   "source": []
  }
 ],
 "metadata": {
  "kernelspec": {
   "display_name": "qc",
   "language": "python",
   "name": "python3"
  },
  "language_info": {
   "codemirror_mode": {
    "name": "ipython",
    "version": 3
   },
   "file_extension": ".py",
   "mimetype": "text/x-python",
   "name": "python",
   "nbconvert_exporter": "python",
   "pygments_lexer": "ipython3",
   "version": "3.8.12"
  },
  "orig_nbformat": 4
 },
 "nbformat": 4,
 "nbformat_minor": 2
}
