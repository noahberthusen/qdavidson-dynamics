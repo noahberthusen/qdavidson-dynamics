{
 "cells": [
  {
   "cell_type": "code",
   "execution_count": 2,
   "metadata": {},
   "outputs": [],
   "source": [
    "import numpy as np\n",
    "from scipy.sparse.linalg import expm_multiply, expm\n",
    "from scipy.sparse import lil_matrix, kron\n",
    "import matplotlib.pyplot as plt\n",
    "from qiskit.synthesis import SuzukiTrotter\n",
    "from scipy.optimize import minimize, linprog\n",
    "from scipy.linalg import eigh, eig\n",
    "import random\n",
    "import cmath"
   ]
  },
  {
   "cell_type": "code",
   "execution_count": 3,
   "metadata": {},
   "outputs": [
    {
     "data": {
      "text/plain": [
       "array([[ 2.,  0.,  0., -1.,  0.,  0., -1.,  0.],\n",
       "       [ 0.,  0.,  3.,  0.,  0.,  0.,  0., -1.],\n",
       "       [ 0.,  3., -2.,  0.,  3.,  0.,  0.,  0.],\n",
       "       [-1.,  0.,  0.,  0.,  0.,  3.,  0.,  0.],\n",
       "       [ 0.,  0.,  3.,  0.,  0.,  0.,  0., -1.],\n",
       "       [ 0.,  0.,  0.,  3.,  0., -2.,  3.,  0.],\n",
       "       [-1.,  0.,  0.,  0.,  0.,  3.,  0.,  0.],\n",
       "       [ 0., -1.,  0.,  0., -1.,  0.,  0.,  2.]])"
      ]
     },
     "execution_count": 3,
     "metadata": {},
     "output_type": "execute_result"
    }
   ],
   "source": [
    "# pauli matrices\n",
    "pauli = np.array([np.array([[1,0],[0,1]]), np.array([[0,1],[1,0]]), np.array([[0,-1.j],[1.j,0]]), np.array([[1,0],[0,-1]])])\n",
    "pauli_tensor = np.array([[np.kron(pauli[i], pauli[j]) for i in range(4)] for j in range(4)])\n",
    "\n",
    "# building operators \n",
    "def kronecker_pad(matrix, num_qubits, starting_site): \n",
    "    ''' pads a 1- or 2- local operator with identities on other sites to get 2^n by 2^n matrix '''\n",
    "    kron_list = [np.eye(2) for i in range(num_qubits)]    \n",
    "    kron_list[starting_site] = matrix\n",
    "    if matrix.shape[0] == 4: \n",
    "        del kron_list[starting_site+1]\n",
    "    \n",
    "    padded_matrix = kron_list[0]\n",
    "    for i in range(1, len(kron_list)):\n",
    "        padded_matrix = np.kron(kron_list[i], padded_matrix)    \n",
    "    return padded_matrix\n",
    "\n",
    "# models\n",
    "def heisenberg(num_qubits, bias_coeff=1.0, x_hopping_coeff=1.0, y_hopping_coeff=1.0, z_hopping_coeff=1.0): \n",
    "    terms = []\n",
    "    # for i in range(num_qubits): \n",
    "    #     bias = bias_coeff*kronecker_pad(pauli[3], num_qubits, i)\n",
    "    #     terms.append(bias)\n",
    "        \n",
    "    for i in range(num_qubits-1): \n",
    "        z_hop = z_hopping_coeff*kronecker_pad(pauli_tensor[(3,3)], num_qubits, i)\n",
    "        terms.append(z_hop)\n",
    "        y_hop = y_hopping_coeff*kronecker_pad(pauli_tensor[(2,2)], num_qubits, i)\n",
    "        terms.append(y_hop)\n",
    "        x_hop = x_hopping_coeff*kronecker_pad(pauli_tensor[(1,1)], num_qubits, i)\n",
    "        terms.append(x_hop)\n",
    "    \n",
    "    return sum(terms)\n",
    "\n",
    "def trotter(num_qubits, bias_coeff=1.0, x_hopping_coeff=1.0, y_hopping_coeff=1.0, z_hopping_coeff=1.0):\n",
    "    even_terms = []\n",
    "    odd_terms = []\n",
    "\n",
    "    for i in range(0, num_qubits-1, 2):\n",
    "        z_hop = z_hopping_coeff*kronecker_pad(pauli_tensor[(3,3)], num_qubits, i)\n",
    "        odd_terms.append(z_hop)\n",
    "        y_hop = y_hopping_coeff*kronecker_pad(pauli_tensor[(2,2)], num_qubits, i)\n",
    "        odd_terms.append(y_hop)\n",
    "        x_hop = x_hopping_coeff*kronecker_pad(pauli_tensor[(1,1)], num_qubits, i)\n",
    "        odd_terms.append(x_hop)\n",
    "    for i in range(1, num_qubits-1, 2):\n",
    "        z_hop = z_hopping_coeff*kronecker_pad(pauli_tensor[(3,3)], num_qubits, i)\n",
    "        even_terms.append(z_hop)\n",
    "        y_hop = y_hopping_coeff*kronecker_pad(pauli_tensor[(2,2)], num_qubits, i)\n",
    "        even_terms.append(y_hop)\n",
    "        x_hop = x_hopping_coeff*kronecker_pad(pauli_tensor[(1,1)], num_qubits, i)\n",
    "        even_terms.append(x_hop)\n",
    "\n",
    "    even = sum(even_terms)\n",
    "    odd = sum(odd_terms)\n",
    "\n",
    "    return even, odd\n",
    "\n",
    "\n",
    "\n",
    "def xy(num_qubits, x_hopping_coeff=1.0, y_hopping_coeff=1.0):\n",
    "    terms = []\n",
    "\n",
    "    for i in range(num_qubits-1):\n",
    "        x_hop = x_hopping_coeff*kronecker_pad(pauli_tensor[(1,1)], num_qubits, i)\n",
    "        terms.append(x_hop)\n",
    "        y_hop = x_hopping_coeff*kronecker_pad(pauli_tensor[(2,2)], num_qubits, i)\n",
    "        terms.append(y_hop)\n",
    "\n",
    "    return sum(terms)\n",
    "\n",
    "n = 3\n",
    "H = heisenberg(n, x_hopping_coeff=1, y_hopping_coeff=2, z_hopping_coeff=1)\n",
    "# H = xy(n)\n",
    "H.real"
   ]
  },
  {
   "cell_type": "code",
   "execution_count": 120,
   "metadata": {},
   "outputs": [
    {
     "data": {
      "text/plain": [
       "array([[ 2,  0,  0,  0,  0,  0,  0,  0],\n",
       "       [ 0,  0,  0,  0,  0,  0,  0,  0],\n",
       "       [ 0,  0, -2,  0,  0,  0,  0,  0],\n",
       "       [ 0,  0,  0,  0,  0,  0,  0,  0],\n",
       "       [ 0,  0,  0,  0,  0,  0,  0,  0],\n",
       "       [ 0,  0,  0,  0,  0, -2,  0,  0],\n",
       "       [ 0,  0,  0,  0,  0,  0,  0,  0],\n",
       "       [ 0,  0,  0,  0,  0,  0,  0,  2]], dtype=int8)"
      ]
     },
     "execution_count": 120,
     "metadata": {},
     "output_type": "execute_result"
    }
   ],
   "source": [
    "def fast_heisenberg(L, bias_coeff=1.0, x_hopping_coeff=1.0, y_hopping_coeff=1.0, z_hopping_coeff=1.0):\n",
    "        def FlipFlop(n, i, j):\n",
    "            v = list(format(n, '0{}b'.format(L)))\n",
    "            if (v[i] != '0' and v[j] != '1'):\n",
    "                v[i] = '0'\n",
    "                v[j] = '1'\n",
    "                return 1, int(''.join(v), 2)\n",
    "            else:\n",
    "                return 0, int(''.join(v), 2)\n",
    "            \n",
    "        sprs = lil_matrix((2**L, 2**L), dtype=np.int8)\n",
    "        for i in range(L-1): \n",
    "            for j in range(2**L):\n",
    "                flag, h = FlipFlop(j, i, i+1)\n",
    "                if (flag):\n",
    "                    sprs[j, h] = x_hopping_coeff + y_hopping_coeff\n",
    "                    sprs[h, j] = x_hopping_coeff + y_hopping_coeff\n",
    "                # else:\n",
    "                #     sprs[j, h] = x_hopping_coeff - y_hopping_coeff\n",
    "                #     sprs[h, j] = x_hopping_coeff - y_hopping_coeff\n",
    "\n",
    "                v = lambda k: 1-2*int(format(j, '0{}b'.format(L))[k])\n",
    "                sprs[j, j] += z_hopping_coeff * v(i) * v(i+1)\n",
    "\n",
    "        # bias term\n",
    "        # for i in range(L):\n",
    "        #     for j in range(2**L):\n",
    "        #         sprs[j, j] += v(i)\n",
    "\n",
    "        return sprs.tocsc()\n",
    "H2 = fast_heisenberg(n, x_hopping_coeff=1,  y_hopping_coeff=2).toarray()\n",
    "H2"
   ]
  },
  {
   "cell_type": "code",
   "execution_count": 127,
   "metadata": {},
   "outputs": [
    {
     "data": {
      "text/plain": [
       "<8x8 sparse matrix of type '<class 'numpy.float64'>'\n",
       "\twith 32 stored elements (blocksize = 4x4) in Block Sparse Row format>"
      ]
     },
     "execution_count": 127,
     "metadata": {},
     "output_type": "execute_result"
    }
   ],
   "source": [
    "X = lil_matrix([[0,1],[1,0]])\n",
    "Y = lil_matrix([[0,-1j],[1j,0]])\n",
    "Z = lil_matrix([[1,0],[0,-1]])\n",
    "I = lil_matrix(np.eye(2))\n",
    "\n",
    "kron(Y, kron(Y, I)).real"
   ]
  },
  {
   "cell_type": "code",
   "execution_count": 87,
   "metadata": {},
   "outputs": [],
   "source": [
    "tau = 0.05\n",
    "even, odd = trotter(n)\n",
    "expm_est_trot = expm(-1j * tau * even) @ expm(-1j * tau * odd)\n",
    "\n",
    "tf = 10\n",
    "ts = [0]\n",
    "while ts[-1] < tf:\n",
    "    ts.append(ts[-1] + tau)\n",
    "\n",
    "c = list(\"0101\") \n",
    "UnitVector = lambda c: np.eye(2**n)[c]\n",
    "init = UnitVector(int(''.join(c), 2))\n",
    "\n",
    "exact_te = [expm_multiply(-1j * t * H, init) for t in ts]\n",
    "trot_te = [np.linalg.matrix_power(expm_est_trot, i) @ init for i, _ in enumerate(ts)]"
   ]
  },
  {
   "cell_type": "code",
   "execution_count": 88,
   "metadata": {},
   "outputs": [
    {
     "data": {
      "text/plain": [
       "[<matplotlib.lines.Line2D at 0x179e8edda60>]"
      ]
     },
     "execution_count": 88,
     "metadata": {},
     "output_type": "execute_result"
    },
    {
     "data": {
      "image/png": "[encoded data removed]",
      "text/plain": [
       "<Figure size 432x288 with 1 Axes>"
      ]
     },
     "metadata": {
      "needs_background": "light"
     },
     "output_type": "display_data"
    }
   ],
   "source": [
    "X = np.array([[0,1],[1,0]])\n",
    "Y = np.array([[0,-1j],[1j,0]])\n",
    "Z = np.array([[1,0],[0,-1]])\n",
    "I = np.eye(2)\n",
    "\n",
    "# O = np.kron(np.kron(I, Z), np.kron(Z, I))\n",
    "# O = np.kron(np.kron(Z, I), I)\n",
    "\n",
    "# Z_exact = [np.conj(psi) @ O @ psi for psi in exact_te]\n",
    "# Z_trot = [np.conj(psi) @ O @ psi for psi in trot_te]\n",
    "exact_auto = [np.abs(np.conj(init) @ psi)**2 for psi in exact_te]\n",
    "trot_auto = [np.abs(np.conj(init) @ psi)**2 for psi in trot_te]\n",
    "fidelity = [np.abs(np.conj(psi) @ phi)**2 for psi, phi in zip(exact_te, trot_te)]\n",
    "\n",
    "\n",
    "plt.plot(ts, exact_auto)\n",
    "plt.plot(ts, trot_auto)\n",
    "plt.plot(ts, fidelity)"
   ]
  },
  {
   "cell_type": "code",
   "execution_count": 3,
   "metadata": {},
   "outputs": [],
   "source": [
    "# def compute_Hkl(ref_states, Ham):\n",
    "#     dim = len(ref_states)\n",
    "#     Hkl = np.zeros((dim, dim), dtype=np.complex64)\n",
    "\n",
    "#     for i in range(dim):\n",
    "#         for j in range(dim):\n",
    "#             Hkl[i][j] = (np.conj(ref_states[i]) @ Ham @ ref_states[j])\n",
    "#     return Hkl\n",
    "\n",
    "# def compute_S(ref_states):\n",
    "#     dim = len(ref_states)\n",
    "#     S = np.zeros((dim, dim), dtype=np.complex64)\n",
    "\n",
    "#     for i in range(dim):\n",
    "#         for j in range(dim):\n",
    "#             S[i][j] = (np.conj(ref_states[i]) @ ref_states[j])\n",
    "#     return S\n",
    "\n",
    "def compute_Hkl(Ham, basis_set): \n",
    "    eff_H = np.eye(len(basis_set), dtype=complex)\n",
    "    for i in range(len(basis_set)): \n",
    "        for j in range(len(basis_set)): \n",
    "            eff_H[i][j] = basis_set[i].conj().T @ Ham @ basis_set[j]\n",
    "    return eff_H    \n",
    "\n",
    "def compute_S(basis_set): \n",
    "    eff_S = np.eye(len(basis_set), dtype=complex)\n",
    "    for i in range(len(basis_set)): \n",
    "        for j in range(len(basis_set)): \n",
    "            eff_S[i][j] = basis_set[i].conj().T @ basis_set[j]\n",
    "    return eff_S\n",
    "\n",
    "def random_initial_state(n):\n",
    "    components = [complex(random.uniform(-1, 1), random.uniform(-1, 1)) for _ in range(n)]\n",
    "    magnitude = cmath.sqrt(sum(comp.real**2 + comp.imag**2 for comp in components))\n",
    "    normalized_vector = [comp / magnitude for comp in components]\n",
    "    \n",
    "    return np.array(normalized_vector)"
   ]
  },
  {
   "cell_type": "code",
   "execution_count": 4,
   "metadata": {},
   "outputs": [],
   "source": [
    "tf = 10\n",
    "ts = np.linspace(0, tf, 200)\n",
    "\n",
    "# init = random_initial_state(2**n)\n",
    "\n",
    "c = list(\"01\") \n",
    "UnitVector = lambda c: np.eye(2**n)[c]\n",
    "init = UnitVector(int(''.join(c), 2))\n",
    "\n",
    "ref_states = [init]\n",
    "added_indices = []\n",
    "M = 8\n",
    "num_ref_states = 1\n",
    "tau = 0.1\n",
    "\n",
    "expm_est = expm(-1j * tau * H) # should be trotterized really, eventually\n",
    "\n",
    "for j in range(num_ref_states):\n",
    "    for i in range(1, M):\n",
    "        new_states = []\n",
    "        new_states.append(expm_multiply(-1j * i * tau * H, ref_states[-1]))\n",
    "        ref_states.extend(new_states)\n",
    "    if (j < num_ref_states - 1):\n",
    "        # should take second most probable if the first one is already in there\n",
    "        xs = np.eye(2**n)\n",
    "        # probs = [ np.abs(np.conj(x) @ ref_states[-1])**2 for x in xs]\n",
    "        # ref_states.append(xs[np.argmax(probs)])\n",
    "\n",
    "        sorted_probs_inds = np.argsort([np.abs(np.conj(x) @ ref_states[-1])**2 for x in xs])[::-1]\n",
    "        for k in range(len(sorted_probs_inds)):\n",
    "            if not (sorted_probs_inds[k] in added_indices):\n",
    "                ref_states.append(xs[sorted_probs_inds[k]])\n",
    "                added_indices.append(sorted_probs_inds[k])\n",
    "                break"
   ]
  },
  {
   "cell_type": "code",
   "execution_count": 5,
   "metadata": {},
   "outputs": [
    {
     "name": "stdout",
     "output_type": "stream",
     "text": [
      "[ 0.        +0.j          0.49390544-0.6743622j  -0.29954365-0.42891963j\n",
      "  0.        +0.j         -0.14275599+0.07793224j  0.        +0.j\n",
      "  0.        +0.j          0.        +0.j          0.01913141+0.0278546j\n",
      "  0.        +0.j          0.        +0.j          0.        +0.j\n",
      "  0.        +0.j          0.        +0.j          0.        +0.j\n",
      "  0.        +0.j        ]\n"
     ]
    }
   ],
   "source": [
    "print(ref_states[2])"
   ]
  },
  {
   "cell_type": "code",
   "execution_count": 6,
   "metadata": {},
   "outputs": [
    {
     "name": "stdout",
     "output_type": "stream",
     "text": [
      "[[ 1.        +0.j          0.93603023-0.2909271j   0.49390544-0.6743622j\n",
      "  -0.29117147-0.4303668j  -0.14267358+0.37078593j  0.40280067-0.23580936j\n",
      "  -0.3799935 -0.46238192j -0.28866316+0.01199232j]\n",
      " [ 0.93603023+0.2909271j   1.        +0.j          0.75614044-0.5296208j\n",
      "  -0.07989235-0.61333252j -0.30997624+0.24931705j  0.4271892 -0.02995303j\n",
      "  -0.2939353 -0.54591219j -0.32226298-0.04172057j]\n",
      " [ 0.49390544+0.6743622j   0.75614044+0.5296208j   1.        +0.j\n",
      "   0.49390544-0.6743622j  -0.40399519-0.19332576j  0.23752928+0.32009257j\n",
      "  -0.00668984-0.6011838j  -0.3833681 -0.14332023j]\n",
      " [-0.29117147+0.4303668j  -0.07989235+0.61333252j  0.49390544+0.6743622j\n",
      "   1.        +0.j          0.1975472 -0.70221884j -0.30997624+0.24931705j\n",
      "   0.40280067-0.23580936j -0.42240374-0.36824218j]\n",
      " [-0.14267358-0.37078593j -0.30997624-0.24931705j -0.40399519+0.19332576j\n",
      "   0.1975472 +0.70221884j  1.        +0.j         -0.07989235-0.61333252j\n",
      "   0.05431974+0.39411994j -0.00668984-0.6011838j ]\n",
      " [ 0.40280067+0.23580936j  0.4271892 +0.02995303j  0.23752928-0.32009257j\n",
      "  -0.30997624-0.24931705j -0.07989235+0.61333252j  1.        +0.j\n",
      "  -0.29117147-0.4303668j   0.36977935+0.16794858j]\n",
      " [-0.3799935 +0.46238192j -0.2939353 +0.54591219j -0.00668984+0.6011838j\n",
      "   0.40280067+0.23580936j  0.05431974-0.39411994j -0.29117147+0.4303668j\n",
      "   1.        +0.j         -0.40399519-0.19332576j]\n",
      " [-0.28866316-0.01199232j -0.32226298+0.04172057j -0.3833681 +0.14332023j\n",
      "  -0.42240374+0.36824218j -0.00668984+0.6011838j   0.36977935-0.16794858j\n",
      "  -0.40399519+0.19332576j  1.        +0.j        ]]\n",
      "[4.57223717e+00 2.11255645e+00 8.67322390e-01 4.47883992e-01\n",
      " 3.56361940e-16 1.56318125e-16 1.25912138e-16 5.63166613e-17]\n"
     ]
    }
   ],
   "source": [
    "Hkl = compute_Hkl(H, ref_states)\n",
    "S = compute_S(ref_states)\n",
    "print(S)\n",
    "\n",
    "U, D, Vh = np.linalg.svd(S)\n",
    "print(D)\n",
    "eps = 1e-5\n",
    "D[np.abs(D) < eps] = 0\n",
    "D_inv = [1/d if d > 0 else 0 for d in D]\n",
    "S_inv = Vh.conj().T @ np.diag(D_inv) @ U.conj().T\n",
    "\n",
    "# c0 = np.linalg.inv(S) @ S[:,0]\n",
    "c0 = np.zeros(len(ref_states))\n",
    "c0[0] = 1\n",
    "# c0"
   ]
  },
  {
   "cell_type": "code",
   "execution_count": 24,
   "metadata": {},
   "outputs": [],
   "source": [
    "def QKFFEvolve(t, init):\n",
    "    ct = expm(-1j * t * S_inv @ Hkl) @ init\n",
    "    return sum([ct[i] * ref_states[i] for i in range(len(ct))])\n",
    "\n",
    "exact_te = [expm_multiply(-1j * H * t, init) for t in ts]\n",
    "# qkff_te = [QKFFEvolve(t, c0) for t in ts]"
   ]
  },
  {
   "cell_type": "code",
   "execution_count": 12,
   "metadata": {},
   "outputs": [
    {
     "data": {
      "text/plain": [
       "<matplotlib.legend.Legend at 0x179d4b8a0a0>"
      ]
     },
     "execution_count": 12,
     "metadata": {},
     "output_type": "execute_result"
    },
    {
     "data": {
      "image/png": "[encoded data removed]",
      "text/plain": [
       "<Figure size 432x288 with 1 Axes>"
      ]
     },
     "metadata": {
      "needs_background": "light"
     },
     "output_type": "display_data"
    }
   ],
   "source": [
    "# O = np.kron(np.kron(np.kron(I,I),Z), np.kron(I,I))\n",
    "# O = np.kron(Z,I)\n",
    "# O = np.kron(Z, np.kron(I,I))\n",
    "\n",
    "fidelity = [np.abs(np.conj(psi) @ phi)**2 for psi,phi in zip(exact_te, qkff_te)]\n",
    "\n",
    "\n",
    "# exact_Z1 = [(np.conj(psi) @ O @ psi).real for psi in exact_te]\n",
    "# qkff_Z1 = [(np.conj(psi) @ O @ psi).real for psi in qkff_te]\n",
    "\n",
    "exact_auto = [(np.conj(init) @ psi).real for psi in exact_te]\n",
    "qkff_auto = [(np.conj(init) @ psi).real for psi in qkff_te]\n",
    "\n",
    "\n",
    "# plt.plot(ts, exact_Z1, label=\"Theoretical\")\n",
    "# plt.plot(ts, qkff_Z1, \"r--\", label=\"QKFF\")\n",
    "plt.plot(ts, fidelity, 'k', label=\"Fidelity\")\n",
    "\n",
    "plt.plot(ts, exact_auto, label=\"Exact auto\")\n",
    "plt.plot(ts, qkff_auto, \"r--\", label=\"QKFF auto\")\n",
    "\n",
    "# plt.plot(ts, qkff_Z1, 'r--', label=\"QKFF, R=1, M=6\")\n",
    "plt.legend(loc='upper right')"
   ]
  },
  {
   "cell_type": "code",
   "execution_count": 32,
   "metadata": {},
   "outputs": [
    {
     "name": "stdout",
     "output_type": "stream",
     "text": [
      "[ 0.89322456-0.10708714j -0.08044663-0.05849577j -0.13795643+0.02770995j\n",
      " -0.3247669 -0.00842242j -0.39411963-0.18559092j -0.33809253-0.37108348j\n",
      "  0.29120446-0.38850003j  0.01408329+0.02631267j]\n",
      "(0.5806229681903267+0j)\n",
      "(-5.28004840380846e+75+2.5576123587056724e+75j)\n"
     ]
    }
   ],
   "source": [
    "X = np.array([[0,1],[1,0]])\n",
    "Y = np.array([[0,-1j],[1j,0]])\n",
    "Z = np.array([[1,0],[0,-1]])\n",
    "I = np.eye(2)\n",
    "\n",
    "O = np.kron(np.kron(I, Z), np.kron(I, I))\n",
    "\n",
    "exact_final_te = expm_multiply(-1j * H * ts[-1], init)\n",
    "qkff_final_te = QKFFEvolve(ts[-1], c0)\n",
    "ct = expm(-1j * ts[-1] * S_inv @ Hkl) @ c0\n",
    "\n",
    "print(np.conj(qkff_final_te) @ O @ qkff_final_te)\n",
    "\n",
    "obs = []\n",
    "for psi in ref_states:\n",
    "    obs.append(np.conj(psi) @ O @ psi)\n",
    "\n",
    "print(sum([ct[i] * obs[i] for i in range(len(ct))]))"
   ]
  },
  {
   "cell_type": "code",
   "execution_count": null,
   "metadata": {},
   "outputs": [],
   "source": []
  }
 ],
 "metadata": {
  "kernelspec": {
   "display_name": "Python 3",
   "language": "python",
   "name": "python3"
  },
  "language_info": {
   "codemirror_mode": {
    "name": "ipython",
    "version": 3
   },
   "file_extension": ".py",
   "mimetype": "text/x-python",
   "name": "python",
   "nbconvert_exporter": "python",
   "pygments_lexer": "ipython3",
   "version": "3.8.5"
  }
 },
 "nbformat": 4,
 "nbformat_minor": 2
}
