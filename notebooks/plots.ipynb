{
 "cells": [
  {
   "cell_type": "code",
   "execution_count": 2,
   "metadata": {},
   "outputs": [],
   "source": [
    "import pandas as pd\n",
    "import matplotlib.pyplot as plt\n",
    "import numpy as np"
   ]
  },
  {
   "cell_type": "code",
   "execution_count": 19,
   "metadata": {},
   "outputs": [],
   "source": [
    "qdavidson = pd.read_csv(\"../results/xxx/qdavidson.txt\", names=[\"qubits\",\"num_iters\",\"num_states\",\"fidelity\"])\n",
    "qd_successes = qdavidson[qdavidson[\"qubits\"] == str(16)]\n",
    "\n",
    "# krylov = pd.read_csv(\"../results/xxx/qkrylov_10_0.1.txt\", names=[\"qubits\",\"M\",\"tau\",\"num_iters\",\"num_states\",\"fidelity\"])\n",
    "# kr_successes = krylov[krylov[\"fidelity\"] > 1 - 1e-2]"
   ]
  },
  {
   "cell_type": "code",
   "execution_count": 20,
   "metadata": {},
   "outputs": [
    {
     "data": {
      "text/html": [
       "<div>\n",
       "<style scoped>\n",
       "    .dataframe tbody tr th:only-of-type {\n",
       "        vertical-align: middle;\n",
       "    }\n",
       "\n",
       "    .dataframe tbody tr th {\n",
       "        vertical-align: top;\n",
       "    }\n",
       "\n",
       "    .dataframe thead th {\n",
       "        text-align: right;\n",
       "    }\n",
       "</style>\n",
       "<table border=\"1\" class=\"dataframe\">\n",
       "  <thead>\n",
       "    <tr style=\"text-align: right;\">\n",
       "      <th></th>\n",
       "      <th>qubits</th>\n",
       "      <th>num_iters</th>\n",
       "      <th>num_states</th>\n",
       "      <th>fidelity</th>\n",
       "    </tr>\n",
       "  </thead>\n",
       "  <tbody>\n",
       "    <tr>\n",
       "      <th>924</th>\n",
       "      <td>16</td>\n",
       "      <td>1</td>\n",
       "      <td>2</td>\n",
       "      <td>0.004684480829941676</td>\n",
       "    </tr>\n",
       "    <tr>\n",
       "      <th>925</th>\n",
       "      <td>16</td>\n",
       "      <td>2</td>\n",
       "      <td>3</td>\n",
       "      <td>0.0029749450092156197</td>\n",
       "    </tr>\n",
       "    <tr>\n",
       "      <th>926</th>\n",
       "      <td>16</td>\n",
       "      <td>3</td>\n",
       "      <td>4</td>\n",
       "      <td>0.0030528807176305457</td>\n",
       "    </tr>\n",
       "    <tr>\n",
       "      <th>927</th>\n",
       "      <td>16</td>\n",
       "      <td>4</td>\n",
       "      <td>5</td>\n",
       "      <td>0.009320305309196359</td>\n",
       "    </tr>\n",
       "    <tr>\n",
       "      <th>928</th>\n",
       "      <td>16</td>\n",
       "      <td>5</td>\n",
       "      <td>6</td>\n",
       "      <td>0.013897513654336625</td>\n",
       "    </tr>\n",
       "    <tr>\n",
       "      <th>...</th>\n",
       "      <td>...</td>\n",
       "      <td>...</td>\n",
       "      <td>...</td>\n",
       "      <td>...</td>\n",
       "    </tr>\n",
       "    <tr>\n",
       "      <th>1110</th>\n",
       "      <td>16</td>\n",
       "      <td>187</td>\n",
       "      <td>188</td>\n",
       "      <td>0.9475935601526028</td>\n",
       "    </tr>\n",
       "    <tr>\n",
       "      <th>1111</th>\n",
       "      <td>16</td>\n",
       "      <td>188</td>\n",
       "      <td>189</td>\n",
       "      <td>0.9643623969962086</td>\n",
       "    </tr>\n",
       "    <tr>\n",
       "      <th>1112</th>\n",
       "      <td>16</td>\n",
       "      <td>189</td>\n",
       "      <td>190</td>\n",
       "      <td>0.9780205492088554</td>\n",
       "    </tr>\n",
       "    <tr>\n",
       "      <th>1113</th>\n",
       "      <td>16</td>\n",
       "      <td>190</td>\n",
       "      <td>191</td>\n",
       "      <td>0.9868239989500307</td>\n",
       "    </tr>\n",
       "    <tr>\n",
       "      <th>1114</th>\n",
       "      <td>16</td>\n",
       "      <td>191</td>\n",
       "      <td>192</td>\n",
       "      <td>0.9918953474290823</td>\n",
       "    </tr>\n",
       "  </tbody>\n",
       "</table>\n",
       "<p>191 rows × 4 columns</p>\n",
       "</div>"
      ],
      "text/plain": [
       "     qubits num_iters num_states               fidelity\n",
       "924      16         1          2   0.004684480829941676\n",
       "925      16         2          3  0.0029749450092156197\n",
       "926      16         3          4  0.0030528807176305457\n",
       "927      16         4          5   0.009320305309196359\n",
       "928      16         5          6   0.013897513654336625\n",
       "...     ...       ...        ...                    ...\n",
       "1110     16       187        188     0.9475935601526028\n",
       "1111     16       188        189     0.9643623969962086\n",
       "1112     16       189        190     0.9780205492088554\n",
       "1113     16       190        191     0.9868239989500307\n",
       "1114     16       191        192     0.9918953474290823\n",
       "\n",
       "[191 rows x 4 columns]"
      ]
     },
     "execution_count": 20,
     "metadata": {},
     "output_type": "execute_result"
    }
   ],
   "source": [
    "qd_successes"
   ]
  },
  {
   "cell_type": "code",
   "execution_count": 21,
   "metadata": {},
   "outputs": [
    {
     "data": {
      "text/plain": [
       "Text(0, 0.5, 'fidelity')"
      ]
     },
     "execution_count": 21,
     "metadata": {},
     "output_type": "execute_result"
    },
    {
     "data": {
      "image/png": "[encoded data removed]",
      "text/plain": [
       "<Figure size 432x288 with 1 Axes>"
      ]
     },
     "metadata": {
      "needs_background": "light"
     },
     "output_type": "display_data"
    }
   ],
   "source": [
    "plt.scatter([int(x) for x in qd_successes[\"num_states\"]], [float(x) for x in qd_successes[\"fidelity\"]], label=\"QDavidson\")\n",
    "# plt.scatter(kr_successes[\"qubits\"], kr_successes[\"num_states\"], label=\"Multi-reference Krylov\")\n",
    "\n",
    "plt.legend(loc=\"lower right\")\n",
    "plt.yscale('log')\n",
    "plt.xlabel(\"num basis vectors\")\n",
    "plt.ylabel(\"fidelity\")\n",
    "# plt.savefig(\"../figures/qd_vs_mrk.png\")"
   ]
  },
  {
   "cell_type": "code",
   "execution_count": null,
   "metadata": {},
   "outputs": [],
   "source": []
  }
 ],
 "metadata": {
  "kernelspec": {
   "display_name": "qc",
   "language": "python",
   "name": "python3"
  },
  "language_info": {
   "codemirror_mode": {
    "name": "ipython",
    "version": 3
   },
   "file_extension": ".py",
   "mimetype": "text/x-python",
   "name": "python",
   "nbconvert_exporter": "python",
   "pygments_lexer": "ipython3",
   "version": "3.8.12"
  },
  "orig_nbformat": 4
 },
 "nbformat": 4,
 "nbformat_minor": 2
}
