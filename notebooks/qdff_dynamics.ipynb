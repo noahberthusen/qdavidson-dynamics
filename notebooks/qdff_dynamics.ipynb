{
 "cells": [
  {
   "cell_type": "code",
   "execution_count": 3,
   "id": "47bea326",
   "metadata": {
    "ExecuteTime": {
     "end_time": "2023-06-13T20:10:14.684770Z",
     "start_time": "2023-06-13T20:10:14.670806Z"
    }
   },
   "outputs": [],
   "source": [
    "import numpy as np\n",
    "import copy\n",
    "from scipy.linalg import eigh\n",
    "from scipy.sparse.linalg import expm, expm_multiply\n",
    "import matplotlib.pyplot as plt\n",
    "np.set_printoptions(precision=3, suppress=True)"
   ]
  },
  {
   "cell_type": "code",
   "execution_count": 4,
   "id": "8bad8c5b",
   "metadata": {
    "ExecuteTime": {
     "end_time": "2023-06-13T20:10:15.782048Z",
     "start_time": "2023-06-13T20:10:15.759143Z"
    }
   },
   "outputs": [],
   "source": [
    "# pauli matrices\n",
    "pauli = np.array([np.array([[1,0],[0,1]]), np.array([[0,1],[1,0]]), np.array([[0,-1.j],[1.j,0]]), np.array([[1,0],[0,-1]])])\n",
    "pauli_tensor = np.array([[np.kron(pauli[i], pauli[j]) for i in range(4)] for j in range(4)])\n",
    "\n",
    "# building operators \n",
    "def kronecker_pad(matrix, num_qubits, starting_site): \n",
    "    ''' pads a 1- or 2- local operator with identities on other sites to get 2^n by 2^n matrix '''\n",
    "    kron_list = [np.eye(2) for i in range(num_qubits)]    \n",
    "    kron_list[starting_site] = matrix\n",
    "    if matrix.shape[0] == 4: \n",
    "        del kron_list[starting_site+1]\n",
    "    \n",
    "    padded_matrix = kron_list[0]\n",
    "    for i in range(1, len(kron_list)):\n",
    "        padded_matrix = np.kron(kron_list[i], padded_matrix)    \n",
    "    return padded_matrix\n",
    "\n",
    "# models\n",
    "def heisenberg(num_qubits, bias_coeff=1.0, x_hopping_coeff=1.0, y_hopping_coeff=1.0, z_hopping_coeff=1.0): \n",
    "    terms = []\n",
    "    for i in range(num_qubits): \n",
    "        bias = bias_coeff*kronecker_pad(pauli[3], num_qubits, i)\n",
    "        terms.append(bias)\n",
    "        \n",
    "    for i in range(num_qubits-1): \n",
    "        z_hop = z_hopping_coeff*kronecker_pad(pauli_tensor[(3,3)], num_qubits, i)\n",
    "        terms.append(z_hop)\n",
    "        y_hop = y_hopping_coeff*kronecker_pad(pauli_tensor[(2,2)], num_qubits, i)\n",
    "        terms.append(y_hop)\n",
    "        x_hop = x_hopping_coeff*kronecker_pad(pauli_tensor[(1,1)], num_qubits, i)\n",
    "        terms.append(x_hop)\n",
    "    \n",
    "    return sum(terms)\n",
    "\n",
    "# used for initial guesses\n",
    "def basis_state(num_qubits, i): \n",
    "    state = np.zeros(2**num_qubits)\n",
    "    state[i] = 1.0 \n",
    "    return state"
   ]
  },
  {
   "cell_type": "code",
   "execution_count": 53,
   "id": "daf4e245",
   "metadata": {
    "ExecuteTime": {
     "end_time": "2023-06-13T20:13:43.908978Z",
     "start_time": "2023-06-13T20:13:43.888963Z"
    }
   },
   "outputs": [],
   "source": [
    "def correction_state(ham, energy, state, tau=0.0001):\n",
    "    #op = expm(-tau*(ham-energy))\n",
    "    #correction_state = op @ state\n",
    "    correction_state = ham @ state - energy*state\n",
    "    return correction_state / np.linalg.norm(correction_state)\n",
    "\n",
    "def eff_ham(ham, basis_set): \n",
    "    eff_H = np.eye(len(basis_set), dtype=complex)\n",
    "    for i in range(len(basis_set)): \n",
    "        for j in range(len(basis_set)): \n",
    "            eff_H[i][j] = basis_set[i].conj().T @ ham @ basis_set[j]\n",
    "    return eff_H    \n",
    "\n",
    "def eff_overlap(basis_set): \n",
    "    eff_S = np.eye(len(basis_set), dtype=complex)\n",
    "    for i in range(len(basis_set)): \n",
    "        for j in range(len(basis_set)): \n",
    "            eff_S[i][j] = basis_set[i].conj().T @ basis_set[j]\n",
    "    return eff_S\n",
    "    \n",
    "def qdavidson_iter(ham, basis_set, tol=0.5):\n",
    "    num_basis = len(basis_set)\n",
    "    eff_H = eff_ham(ham, basis_set)\n",
    "    eff_S = eff_overlap(basis_set)        \n",
    "    evals, evecs = eigh(eff_H, eff_S)\n",
    "    estates = [np.array(sum([evecs[:,i][j] * basis_set[j] for j in range(num_basis)])) for i in range(num_basis)]\n",
    "    new_basis_set = copy.deepcopy(basis_set)\n",
    "    residue_vals = []\n",
    "    for i in range(num_basis): \n",
    "        print('in')\n",
    "        val = np.linalg.norm((ham @ estates[i]) - (evals[i] * estates[i]))\n",
    "        residue_vals.append(val)\n",
    "        if val > tol: \n",
    "            state = correction_state(ham, evals[i], estates[i])            \n",
    "            if linear_independence(state, new_basis_set, eff_S, tol): \n",
    "                print(\"----addded----\")\n",
    "                '''\n",
    "                eff_S = np.pad(eff_S, ((0, 1), (0, 1)), mode='constant')\n",
    "                for i in range(len(new_basis_set)):\n",
    "                    overlap = state.conj().T @ new_basis_set[i]\n",
    "                    eff_S[i][len(new_basis_set)] = overlap\n",
    "                    eff_S[len(new_basis_set)][i] = overlap\n",
    "                '''\n",
    "                new_basis_set.append(state)\n",
    "                eff_S = eff_overlap(new_basis_set)\n",
    "                eff_H = eff_ham(ham, new_basis_set)\n",
    "            \n",
    "    return evals, estates, residue_vals, new_basis_set, eff_H, eff_S\n",
    "\n",
    "def linear_independence(correction_vec, basis_set, eff_S, tol=0.01): \n",
    "    b = np.array([correction_vec.conj().T @ basis_set[i] for i in range(len(basis_set))])\n",
    "    return np.linalg.norm(np.linalg.pinv(eff_S) @ b) < tol    \n",
    "\n",
    "def qdavidson(ham, initial_basis_set, num_iter, tol=0.5): \n",
    "    basis_set = copy.deepcopy(initial_basis_set)\n",
    "    for i in range(num_iter): \n",
    "        print(f'iter #{i+1}')\n",
    "        evals, estates, residue_vals, basis_set, eff_H, eff_S = qdavidson_iter(ham, basis_set, tol)\n",
    "    return evals, estates, residue_vals, basis_set, eff_H, eff_S"
   ]
  },
  {
   "cell_type": "code",
   "execution_count": 88,
   "id": "cb4d76e0",
   "metadata": {
    "ExecuteTime": {
     "end_time": "2023-06-13T20:13:44.926761Z",
     "start_time": "2023-06-13T20:13:44.911794Z"
    }
   },
   "outputs": [
    {
     "name": "stdout",
     "output_type": "stream",
     "text": [
      "[-6.464 -5.828 -3.828 -3.    -1.828 -1.    -1.    -0.172  0.464  1.\n",
      "  1.     1.828  3.     3.828  5.     7.   ]\n"
     ]
    }
   ],
   "source": [
    "num_qubits = 4\n",
    "ham = heisenberg(num_qubits)\n",
    "evals, evecs = np.linalg.eigh(ham)\n",
    "print(evals)"
   ]
  },
  {
   "cell_type": "code",
   "execution_count": 103,
   "id": "a56376e0",
   "metadata": {
    "ExecuteTime": {
     "end_time": "2023-06-13T20:16:15.792913Z",
     "start_time": "2023-06-13T20:16:15.760613Z"
    }
   },
   "outputs": [
    {
     "name": "stdout",
     "output_type": "stream",
     "text": [
      "iter #1\n",
      "in\n",
      "----addded----\n",
      "iter #2\n",
      "in\n",
      "----addded----\n",
      "in\n",
      "iter #3\n",
      "in\n",
      "----addded----\n",
      "in\n",
      "in\n",
      "iter #4\n",
      "in\n",
      "----addded----\n",
      "in\n",
      "in\n",
      "in\n"
     ]
    },
    {
     "data": {
      "text/plain": [
       "array([-6.462, -3.82 ,  1.325,  2.958])"
      ]
     },
     "execution_count": 103,
     "metadata": {},
     "output_type": "execute_result"
    }
   ],
   "source": [
    "# basis_set = [basis_state(num_qubits, i) for i in range(3)]\n",
    "c = list(\"0101\") \n",
    "UnitVector = lambda c: np.eye(2**num_qubits)[c]\n",
    "init = UnitVector(int(''.join(c), 2))\n",
    "\n",
    "basis_set = [init]\n",
    "evals, estates, residue_vals, basis_set, eff_H, eff_S = qdavidson(ham, basis_set, 4, tol=0.0001)\n",
    "evals"
   ]
  },
  {
   "cell_type": "code",
   "execution_count": 104,
   "id": "d4d50784",
   "metadata": {},
   "outputs": [
    {
     "name": "stdout",
     "output_type": "stream",
     "text": [
      "[[-3.   +0.j  3.464+0.j  0.   +0.j  0.   +0.j  0.   +0.j]\n",
      " [ 3.464+0.j -0.333+0.j  2.494+0.j  0.   +0.j -0.   +0.j]\n",
      " [ 0.   +0.j  2.494+0.j -3.667+0.j -1.852+0.j  0.   +0.j]\n",
      " [ 0.   +0.j  0.   +0.j -1.852+0.j  1.   +0.j -0.756+0.j]\n",
      " [ 0.   +0.j -0.   +0.j  0.   +0.j -0.756+0.j  1.   +0.j]]\n",
      "\n",
      "[[-3.   +0.j  3.464+0.j  0.   +0.j  0.   +0.j  0.   +0.j]\n",
      " [ 3.464+0.j -0.333+0.j  2.494+0.j  0.   +0.j -0.   +0.j]\n",
      " [ 0.   +0.j  2.494+0.j -3.667+0.j -1.852+0.j  0.   +0.j]\n",
      " [-0.   +0.j  0.   +0.j -1.852+0.j  1.   +0.j -0.756+0.j]\n",
      " [ 0.   +0.j -0.   +0.j  0.   +0.j -0.756+0.j  1.   +0.j]]\n"
     ]
    }
   ],
   "source": [
    "def eff_ham_new(ham, basis_set): \n",
    "    eff_H = np.eye(len(basis_set), dtype=complex)\n",
    "    for i in range(len(basis_set)): \n",
    "        for j in range(i,len(basis_set)): \n",
    "            overlap = basis_set[i].conj().T.dot(ham.dot(basis_set[j]))\n",
    "            eff_H[i][j] = overlap\n",
    "            if (i != j):\n",
    "                eff_H[j][i] = overlap\n",
    "    return eff_H   \n",
    "\n",
    "print(eff_ham_new(ham, basis_set))\n",
    "print()\n",
    "print(eff_ham(ham, basis_set))"
   ]
  },
  {
   "cell_type": "code",
   "execution_count": 105,
   "id": "2def1949",
   "metadata": {},
   "outputs": [],
   "source": [
    "tf = 10\n",
    "ts = np.linspace(0, tf, 200)\n",
    "\n",
    "# init = basis_set[1]\n",
    "# init = np.array([0,1,0])\n",
    "\n",
    "c0 = np.zeros(len(basis_set))\n",
    "c0[0] = 1\n",
    "\n",
    "def QKFFEvolve(t, init):\n",
    "    ct = expm(-1j * t * np.linalg.inv(eff_S) @ eff_H) @ init\n",
    "    return sum([ct[i] * basis_set[i] for i in range(len(ct))])\n",
    "\n",
    "exact_te = [expm_multiply(-1j * ham * t, init) for t in ts]\n",
    "qkff_te = [QKFFEvolve(t, c0) for t in ts]"
   ]
  },
  {
   "cell_type": "code",
   "execution_count": 106,
   "id": "b13d641a",
   "metadata": {},
   "outputs": [
    {
     "name": "stdout",
     "output_type": "stream",
     "text": [
      "5\n",
      "0.9999999999999294\n"
     ]
    }
   ],
   "source": [
    "print(len(basis_set))\n",
    "exact_final_te = expm_multiply(-1j * ham * ts[-1], init)\n",
    "qkff_final_te = QKFFEvolve(ts[-1], c0)\n",
    "print(np.abs(np.conj(exact_final_te) @ qkff_final_te)**2)"
   ]
  },
  {
   "cell_type": "code",
   "execution_count": 107,
   "id": "a3f666f9",
   "metadata": {},
   "outputs": [
    {
     "data": {
      "text/plain": [
       "<matplotlib.legend.Legend at 0x2c9ee0b1160>"
      ]
     },
     "execution_count": 107,
     "metadata": {},
     "output_type": "execute_result"
    },
    {
     "data": {
      "image/png": "[encoded data removed]",
      "text/plain": [
       "<Figure size 432x288 with 1 Axes>"
      ]
     },
     "metadata": {
      "needs_background": "light"
     },
     "output_type": "display_data"
    }
   ],
   "source": [
    "# O = np.kron(np.kron(np.kron(I,I),Z), np.kron(I,I))\n",
    "# O = np.kron(Z,I)\n",
    "# O = np.kron(Z, np.kron(I,I))\n",
    "\n",
    "fidelity = [np.abs(np.conj(psi) @ phi)**2 for psi,phi in zip(exact_te, qkff_te)]\n",
    "\n",
    "# exact_Z1 = [(np.conj(psi) @ O @ psi).real for psi in exact_te]\n",
    "# qkff_Z1 = [(np.conj(psi) @ O @ psi).real for psi in qkff_te]\n",
    "\n",
    "exact_auto = [(np.conj(init) @ psi).real for psi in exact_te]\n",
    "qkff_auto = [(np.conj(init) @ psi).real for psi in qkff_te]\n",
    "\n",
    "\n",
    "# plt.plot(ts, exact_Z1, label=\"Theoretical\")\n",
    "# plt.plot(ts, qkff_Z1, \"r--\", label=\"QKFF\")\n",
    "plt.plot(ts, fidelity, 'k', label=\"Fidelity\")\n",
    "\n",
    "# plt.plot(ts, exact_auto, label=\"Exact auto\")\n",
    "# plt.plot(ts, qkff_auto, \"r--\", label=\"QDFF auto\")\n",
    "\n",
    "# plt.plot(ts, qkff_Z1, 'r--', label=\"QKFF, R=1, M=6\")\n",
    "plt.legend(loc='upper right')"
   ]
  },
  {
   "cell_type": "code",
   "execution_count": 121,
   "id": "360189c3",
   "metadata": {},
   "outputs": [
    {
     "name": "stdout",
     "output_type": "stream",
     "text": [
      "(-0.9773574569957088+0j)\n",
      "(-0.787757423349683+0j)\n"
     ]
    }
   ],
   "source": [
    "X = np.array([[0,1],[1,0]])\n",
    "Y = np.array([[0,-1j],[1j,0]])\n",
    "Z = np.array([[1,0],[0,-1]])\n",
    "I = np.eye(2)\n",
    "\n",
    "O = np.kron(np.kron(I, Z), np.kron(Z, I))\n",
    "\n",
    "exact_final_te = expm_multiply(-1j * ham * ts[-1], init)\n",
    "qkff_final_te = QKFFEvolve(ts[-1], c0)\n",
    "ct = expm(-1j * ts[-1] * np.linalg.inv(eff_S) @ eff_H) @ c0\n",
    "\n",
    "print(np.conj(qkff_final_te) @ O @ qkff_final_te)\n",
    "\n",
    "obs = []\n",
    "for psi in basis_set:\n",
    "    obs.append(np.conj(psi) @ O @ psi)\n",
    "\n",
    "print(sum([(ct[i].real * obs[i]) + (ct[i].imag * obs[i]) for i in range(len(ct))]))"
   ]
  },
  {
   "cell_type": "code",
   "execution_count": 110,
   "id": "a8997709",
   "metadata": {},
   "outputs": [
    {
     "data": {
      "text/plain": [
       "0.9999999999999999"
      ]
     },
     "execution_count": 110,
     "metadata": {},
     "output_type": "execute_result"
    }
   ],
   "source": [
    "np.linalg.norm(ct)"
   ]
  },
  {
   "cell_type": "code",
   "execution_count": null,
   "id": "e129ec53",
   "metadata": {},
   "outputs": [],
   "source": []
  }
 ],
 "metadata": {
  "kernelspec": {
   "display_name": "qc",
   "language": "python",
   "name": "python3"
  },
  "language_info": {
   "codemirror_mode": {
    "name": "ipython",
    "version": 3
   },
   "file_extension": ".py",
   "mimetype": "text/x-python",
   "name": "python",
   "nbconvert_exporter": "python",
   "pygments_lexer": "ipython3",
   "version": "3.8.12"
  },
  "toc": {
   "base_numbering": 1,
   "nav_menu": {},
   "number_sections": true,
   "sideBar": true,
   "skip_h1_title": false,
   "title_cell": "Table of Contents",
   "title_sidebar": "Contents",
   "toc_cell": false,
   "toc_position": {},
   "toc_section_display": true,
   "toc_window_display": false
  }
 },
 "nbformat": 4,
 "nbformat_minor": 5
}
