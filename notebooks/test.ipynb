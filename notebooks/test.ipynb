{
 "cells": [
  {
   "cell_type": "code",
   "execution_count": 1,
   "metadata": {},
   "outputs": [],
   "source": [
    "import numpy as np\n",
    "import copy\n",
    "from scipy.linalg import eigh, svd\n",
    "from scipy.sparse.linalg import expm, expm_multiply\n",
    "from scipy.sparse import csc_matrix, csr_matrix, kron, lil_matrix, eye\n",
    "import datetime\n",
    "import os\n",
    "import glob"
   ]
  },
  {
   "cell_type": "code",
   "execution_count": 2,
   "metadata": {},
   "outputs": [],
   "source": [
    "num_qubits = 8\n",
    "run_davidson = 0\n",
    "M = 10\n",
    "tau = 0.1"
   ]
  },
  {
   "cell_type": "code",
   "execution_count": 3,
   "metadata": {},
   "outputs": [],
   "source": [
    "\n",
    "\n",
    "x_hopping = 1\n",
    "y_hopping = 1\n",
    "z_hopping = 1\n",
    "model = \"xxx\"\n",
    "use_trotter = 0\n",
    "\n",
    "# full_path = os.path.realpath(__file__)\n",
    "# path, filename = os.path.split(full_path)\n",
    "\n",
    "pauli = np.array([np.array([[1,0],[0,1]]), np.array([[0,1],[1,0]]), np.array([[0,-1.j],[1.j,0]]), np.array([[1,0],[0,-1]])])\n",
    "pauli_tensor = np.array([[np.kron(pauli[i], pauli[j]) for i in range(4)] for j in range(4)])\n",
    "\n",
    "# building operators\n",
    "def kronecker_pad(paulis, num_qubits, sites):\n",
    "    ''' pads a 1- or 2- local operator with identities on other sites to get 2^n by 2^n matrix '''\n",
    "    kron_list = [np.eye(2) for i in range(num_qubits)]\n",
    "    for i, site in enumerate(sites):\n",
    "        kron_list[site] = paulis[i]\n",
    "\n",
    "    padded_matrix = kron_list[0]\n",
    "    for i in range(1, len(kron_list)):\n",
    "        padded_matrix = np.kron(kron_list[i], padded_matrix)\n",
    "    return padded_matrix\n",
    "\n",
    "def heisenberg(num_qubits, bias_coeff=1.0, x_hopping_coeff=1.0, y_hopping_coeff=1.0, z_hopping_coeff=1.0):\n",
    "    terms = []\n",
    "    for i in range(num_qubits):\n",
    "        bias = bias_coeff*kronecker_pad([pauli[3]], num_qubits, [i])\n",
    "        terms.append(bias)\n",
    "\n",
    "    for i in range(num_qubits-1):\n",
    "        z_hop = z_hopping_coeff*kronecker_pad([pauli[3], pauli[3]], num_qubits, [i, (i+1)%num_qubits])\n",
    "        terms.append(z_hop)\n",
    "        y_hop = y_hopping_coeff*kronecker_pad([pauli[2], pauli[2]], num_qubits, [i, (i+1)%num_qubits])\n",
    "        terms.append(y_hop)\n",
    "        x_hop = x_hopping_coeff*kronecker_pad([pauli[1], pauli[1]], num_qubits, [i, (i+1)%num_qubits])\n",
    "        terms.append(x_hop)\n",
    "    return sum(terms)\n",
    "\n",
    "def trotter(num_qubits, bias_coeff=1.0, x_hopping_coeff=1.0, y_hopping_coeff=1.0, z_hopping_coeff=1.0):\n",
    "    even_terms = []\n",
    "    odd_terms = []\n",
    "\n",
    "    for i in range(0, num_qubits-1, 2):\n",
    "        z_hop = z_hopping_coeff*kronecker_pad([pauli[3], pauli[3]], num_qubits, [i, (i+1)%num_qubits])\n",
    "        odd_terms.append(z_hop)\n",
    "        y_hop = y_hopping_coeff*kronecker_pad([pauli[2], pauli[2]], num_qubits, [i, (i+1)%num_qubits])\n",
    "        odd_terms.append(y_hop)\n",
    "        x_hop = x_hopping_coeff*kronecker_pad([pauli[1], pauli[1]], num_qubits, [i, (i+1)%num_qubits])\n",
    "        odd_terms.append(x_hop)\n",
    "    for i in range(1, num_qubits-1, 2):\n",
    "        z_hop = z_hopping_coeff*kronecker_pad([pauli[3], pauli[3]], num_qubits, [i, (i+1)%num_qubits])\n",
    "        even_terms.append(z_hop)\n",
    "        y_hop = y_hopping_coeff*kronecker_pad([pauli[2], pauli[2]], num_qubits, [i, (i+1)%num_qubits])\n",
    "        even_terms.append(y_hop)\n",
    "        x_hop = x_hopping_coeff*kronecker_pad([pauli[1], pauli[1]], num_qubits, [i, (i+1)%num_qubits])\n",
    "        even_terms.append(x_hop)\n",
    "\n",
    "    even = sum(even_terms)\n",
    "    odd = sum(odd_terms)\n",
    "\n",
    "    return even, odd\n",
    "\n",
    "def fast_heisenberg(L):\n",
    "    def FlipFlop(n, i, j):\n",
    "        v = list(format(n, '0{}b'.format(L)))\n",
    "        if (v[i] != '0' and v[j] != '1'):\n",
    "            v[i] = '0'\n",
    "            v[j] = '1'\n",
    "            return int(''.join(v), 2)\n",
    "        else:\n",
    "            return -1\n",
    "\n",
    "    sprs = lil_matrix((2**L, 2**L), dtype=np.int8)\n",
    "    for i in range(L-1):\n",
    "        for j in range(2**L):\n",
    "            h = FlipFlop(j, i, i+1)\n",
    "            if (h != -1):\n",
    "                sprs[j, h] = 2\n",
    "                sprs[h, j] = 2\n",
    "\n",
    "            v = lambda k: 1-2*int(format(j, '0{}b'.format(L))[k])\n",
    "            sprs[j, j] += v(i) * v(i+1)\n",
    "\n",
    "    # bias term\n",
    "    for i in range(L):\n",
    "        for j in range(2**L):\n",
    "            sprs[j, j] += v(i)\n",
    "\n",
    "    return sprs.tocsc()\n",
    "\n",
    "def correction_state(ham, energy, state, tau=0.0001):\n",
    "    #op = expm(-tau*(ham-energy))\n",
    "    #correction_state = op @ state\n",
    "    correction_state = ham @ state - energy*state\n",
    "    return correction_state / np.linalg.norm(correction_state)\n",
    "\n",
    "def eff_ham(ham, basis_set):\n",
    "    eff_H = np.eye(len(basis_set), dtype=complex)\n",
    "    for i in range(len(basis_set)):\n",
    "        for j in range(i,len(basis_set)):\n",
    "            overlap = basis_set[i].conj().transpose(copy=False).dot(ham.dot(basis_set[j]))[0,0]\n",
    "            eff_H[i][j] = overlap\n",
    "            if (i != j):\n",
    "                eff_H[j][i] = np.conj(overlap)\n",
    "    return eff_H\n",
    "\n",
    "def eff_overlap(basis_set):\n",
    "    eff_S = np.eye(len(basis_set), dtype=complex)\n",
    "    for i in range(len(basis_set)):\n",
    "        for j in range(i,len(basis_set)):\n",
    "            overlap = basis_set[i].conj().transpose(copy=False).dot(basis_set[j])[0,0]\n",
    "            eff_S[i][j] = overlap\n",
    "            if (i != j):\n",
    "                eff_S[j][i] = np.conj(overlap)\n",
    "    return eff_S\n",
    "\n",
    "def qdavidson_iter(ham, basis_set, tol=0.5):\n",
    "    num_basis = len(basis_set)\n",
    "    eff_H = eff_ham(ham, basis_set)\n",
    "    eff_S = eff_overlap(basis_set)\n",
    "    evals, evecs = eigh(eff_H, eff_S)\n",
    "    estates = [np.array(sum([evecs[:,i][j] * basis_set[j] for j in range(num_basis)])) for i in range(num_basis)]\n",
    "    new_basis_set = copy.deepcopy(basis_set)\n",
    "    residue_vals = []\n",
    "    for i in range(num_basis):\n",
    "        val = np.linalg.norm((ham @ estates[i]) - (evals[i] * estates[i]))\n",
    "        residue_vals.append(val)\n",
    "        if val > tol:\n",
    "            state = correction_state(ham, evals[i], estates[i])\n",
    "            if linear_independence(state, new_basis_set, eff_S, tol):\n",
    "                '''\n",
    "                eff_S = np.pad(eff_S, ((0, 1), (0, 1)), mode='constant')\n",
    "                for i in range(len(new_basis_set)):\n",
    "                    overlap = state.conj().T @ new_basis_set[i]\n",
    "                    eff_S[i][len(new_basis_set)] = overlap\n",
    "                    eff_S[len(new_basis_set)][i] = overlap\n",
    "                '''\n",
    "                new_basis_set.append(state)\n",
    "                eff_S = eff_overlap(new_basis_set)\n",
    "                eff_H = eff_ham(ham, new_basis_set)\n",
    "\n",
    "    return evals, estates, residue_vals, new_basis_set, eff_H, eff_S\n",
    "\n",
    "def linear_independence(correction_vec, basis_set, eff_S, tol=0.01):\n",
    "    b = np.array([correction_vec.conj().T.dot(basis_set[i]) for i in range(len(basis_set))])\n",
    "    if np.all(np.round(eff_S, 8) == np.eye(len(basis_set))):\n",
    "        return np.linalg.norm(b) < tol\n",
    "    else:\n",
    "        return np.linalg.norm(np.linalg.pinv(eff_S).dot(b)) < tol\n",
    "\n",
    "def qdavidson(ham, initial_basis_set, num_iter, tol=0.5):\n",
    "    basis_set = copy.deepcopy(initial_basis_set)\n",
    "    for i in range(num_iter):\n",
    "        evals, estates, residue_vals, basis_set, eff_H, eff_S = qdavidson_iter(ham, basis_set, tol)\n",
    "    return evals, estates, residue_vals, basis_set, eff_H, eff_S\n",
    "\n",
    "def QDFFEvolve(S_inv, H, t, basis, init):\n",
    "    ct = expm(-1j * t * S_inv @ H) @ init\n",
    "    return sum([ct[i] * basis[i] for i in range(len(ct))])\n",
    "\n",
    "\n",
    "# --------------------------------------------------------\n",
    "\n",
    "epsilon = 0.1  # we want the fidelity with the exact state to be at least this at time = tf\n",
    "\n",
    "tf = 10\n",
    "ts = np.linspace(0, tf, 200)\n",
    "\n",
    "eff_S_eps = 1e-9  # cutoff values in eff_S less than this value\n",
    "\n",
    "cs = list(\"01010101010101010101010101010101010101010101010101\")\n",
    "\n"
   ]
  },
  {
   "cell_type": "code",
   "execution_count": 15,
   "metadata": {},
   "outputs": [],
   "source": [
    "ham = heisenberg(2, x_hopping_coeff=x_hopping, y_hopping_coeff=y_hopping, z_hopping_coeff=z_hopping, bias_coeff=1)\n",
    "expm_trot = expm(-1j * tau * ham)"
   ]
  },
  {
   "cell_type": "code",
   "execution_count": 19,
   "metadata": {},
   "outputs": [
    {
     "data": {
      "text/plain": [
       "array([[0.825-0.565j, 0.   +0.j   , 0.   +0.j   , 0.   +0.j   ],\n",
       "       [0.   +0.j   , 0.903+0.183j, 0.077-0.382j, 0.   +0.j   ],\n",
       "       [0.   +0.j   , 0.077-0.382j, 0.903+0.183j, 0.   +0.j   ],\n",
       "       [0.   +0.j   , 0.   +0.j   , 0.   +0.j   , 0.98 +0.199j]])"
      ]
     },
     "execution_count": 19,
     "metadata": {},
     "output_type": "execute_result"
    }
   ],
   "source": [
    "np.round(np.linalg.matrix_power(expm_trot, 2), 3)"
   ]
  },
  {
   "cell_type": "code",
   "execution_count": 18,
   "metadata": {},
   "outputs": [
    {
     "data": {
      "text/plain": [
       "array([[0.071-0.997j, 0.   +0.j   , 0.   +0.j   , 0.   +0.j   ],\n",
       "       [0.   +0.j   , 0.794+0.434j, 0.   -0.j   , 0.   +0.j   ],\n",
       "       [0.   +0.j   , 0.   -0.j   , 0.794+0.434j, 0.   +0.j   ],\n",
       "       [0.   +0.j   , 0.   +0.j   , 0.   +0.j   , 0.878+0.479j]])"
      ]
     },
     "execution_count": 18,
     "metadata": {},
     "output_type": "execute_result"
    }
   ],
   "source": [
    "np.round(expm_trot**5, 3)"
   ]
  },
  {
   "cell_type": "code",
   "execution_count": 22,
   "metadata": {},
   "outputs": [
    {
     "data": {
      "text/plain": [
       "array([[0.825-0.565j, 0.   +0.j   , 0.   +0.j   , 0.   +0.j   ],\n",
       "       [0.   +0.j   , 0.903+0.183j, 0.077-0.382j, 0.   +0.j   ],\n",
       "       [0.   +0.j   , 0.077-0.382j, 0.903+0.183j, 0.   +0.j   ],\n",
       "       [0.   +0.j   , 0.   +0.j   , 0.   +0.j   , 0.98 +0.199j]])"
      ]
     },
     "execution_count": 22,
     "metadata": {},
     "output_type": "execute_result"
    }
   ],
   "source": [
    "np.round(expm_trot @ expm_trot, 3)"
   ]
  },
  {
   "cell_type": "code",
   "execution_count": 17,
   "metadata": {},
   "outputs": [
    {
     "data": {
      "text/plain": [
       "array([[ True,  True,  True,  True],\n",
       "       [ True, False, False,  True],\n",
       "       [ True, False, False,  True],\n",
       "       [ True,  True,  True,  True]])"
      ]
     },
     "execution_count": 17,
     "metadata": {},
     "output_type": "execute_result"
    }
   ],
   "source": [
    "np.round(expm_trot**5, 5) == np.round(np.linalg.matrix_power(expm_trot, 5), 5)"
   ]
  },
  {
   "cell_type": "code",
   "execution_count": 24,
   "metadata": {},
   "outputs": [
    {
     "data": {
      "text/plain": [
       "array([[4., 0.],\n",
       "       [0., 4.]])"
      ]
     },
     "execution_count": 24,
     "metadata": {},
     "output_type": "execute_result"
    }
   ],
   "source": [
    "arr = np.eye(2)*2\n",
    "arr**2"
   ]
  },
  {
   "cell_type": "code",
   "execution_count": 27,
   "metadata": {},
   "outputs": [
    {
     "data": {
      "text/plain": [
       "array([[0.96-0.3j, 0.  +0.j , 0.  +0.j , 0.  +0.j ],\n",
       "       [0.  +0.j , 0.98+0.1j, 0.02-0.2j, 0.  +0.j ],\n",
       "       [0.  +0.j , 0.02-0.2j, 0.98+0.1j, 0.  +0.j ],\n",
       "       [0.  +0.j , 0.  +0.j , 0.  +0.j , 1.  +0.1j]])"
      ]
     },
     "execution_count": 27,
     "metadata": {},
     "output_type": "execute_result"
    }
   ],
   "source": [
    "np.round(expm_trot, 2)"
   ]
  },
  {
   "cell_type": "code",
   "execution_count": 28,
   "metadata": {},
   "outputs": [
    {
     "data": {
      "text/plain": [
       "array([[0, 4],\n",
       "       [4, 0]])"
      ]
     },
     "execution_count": 28,
     "metadata": {},
     "output_type": "execute_result"
    }
   ],
   "source": [
    "arr = np.array([[0,2],[2,0]])\n",
    "arr**2"
   ]
  },
  {
   "cell_type": "code",
   "execution_count": 29,
   "metadata": {},
   "outputs": [
    {
     "data": {
      "text/plain": [
       "array([[4, 0],\n",
       "       [0, 4]])"
      ]
     },
     "execution_count": 29,
     "metadata": {},
     "output_type": "execute_result"
    }
   ],
   "source": [
    "arr @ arr"
   ]
  },
  {
   "cell_type": "code",
   "execution_count": null,
   "metadata": {},
   "outputs": [],
   "source": []
  }
 ],
 "metadata": {
  "kernelspec": {
   "display_name": "Python 3",
   "language": "python",
   "name": "python3"
  },
  "language_info": {
   "codemirror_mode": {
    "name": "ipython",
    "version": 3
   },
   "file_extension": ".py",
   "mimetype": "text/x-python",
   "name": "python",
   "nbconvert_exporter": "python",
   "pygments_lexer": "ipython3",
   "version": "3.8.12"
  }
 },
 "nbformat": 4,
 "nbformat_minor": 2
}
