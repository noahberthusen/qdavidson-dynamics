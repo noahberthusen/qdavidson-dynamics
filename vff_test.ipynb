{
 "cells": [
  {
   "cell_type": "code",
   "execution_count": 380,
   "metadata": {},
   "outputs": [],
   "source": [
    "import numpy as np\n",
    "from scipy.sparse.linalg import expm_multiply, expm\n",
    "import matplotlib.pyplot as plt\n",
    "from qiskit.synthesis import SuzukiTrotter"
   ]
  },
  {
   "cell_type": "code",
   "execution_count": 549,
   "metadata": {},
   "outputs": [],
   "source": [
    "X = np.array([[0,1],[1,0]])\n",
    "Y = np.array([[0,-1j],[1j,0]])\n",
    "Z = np.array([[1,0],[0,-1]])\n",
    "I = np.eye(2)\n",
    "\n",
    "n = 2\n",
    "H_XY = np.zeros((2**n, 2**n), dtype=np.complex128)\n",
    "\n",
    "for i in range(n-1):\n",
    "    H_XY += np.kron(X, X) + np.kron(Y, Y)\n",
    "# H_XY /= np.linalg.norm(H_XY, 2)"
   ]
  },
  {
   "cell_type": "code",
   "execution_count": 550,
   "metadata": {},
   "outputs": [
    {
     "name": "stdout",
     "output_type": "stream",
     "text": [
      "Hamiltonian:\n",
      "[[0.+0.j 0.+0.j 0.+0.j 0.+0.j]\n",
      " [0.+0.j 0.+0.j 2.+0.j 0.+0.j]\n",
      " [0.+0.j 2.+0.j 0.+0.j 0.+0.j]\n",
      " [0.+0.j 0.+0.j 0.+0.j 0.+0.j]]\n",
      "\n",
      "Eigenvalues:\n",
      "Eigenvalue 1: (2+0j)\n",
      "Eigenvalue 2: (-2+0j)\n",
      "Eigenvalue 3: 0j\n",
      "Eigenvalue 4: 0j\n",
      "\n",
      "Eigenvectors:\n",
      "Eigenvector 1: [-0.        -0.j  0.70710678-0.j  0.70710678+0.j -0.        -0.j]\n",
      "Eigenvector 2: [-0.        -0.j -0.70710678-0.j  0.70710678+0.j -0.        -0.j]\n",
      "Eigenvector 3: [1.+0.j 0.+0.j 0.+0.j 0.+0.j]\n",
      "Eigenvector 4: [0.+0.j 0.+0.j 0.+0.j 1.+0.j]\n"
     ]
    }
   ],
   "source": [
    "eigenvalues, eigenvectors = np.linalg.eig(H_XY)\n",
    "\n",
    "# Print the original matrix\n",
    "print(\"Hamiltonian:\")\n",
    "print(H_XY)\n",
    "\n",
    "# Print the eigenvalues\n",
    "print(\"\\nEigenvalues:\")\n",
    "for i, eigenvalue in enumerate(eigenvalues):\n",
    "    print(f\"Eigenvalue {i+1}: {eigenvalue}\")\n",
    "\n",
    "# Print the eigenvectors\n",
    "print(\"\\nEigenvectors:\")\n",
    "for i, eigenvector in enumerate(eigenvectors.T):\n",
    "    print(f\"Eigenvector {i+1}: {eigenvector}\")"
   ]
  },
  {
   "cell_type": "code",
   "execution_count": 551,
   "metadata": {},
   "outputs": [],
   "source": [
    "tf = 50\n",
    "dt = 0.5\n",
    "Nt = int(tf / dt)\n",
    "# Nt = 22\n",
    "c = ['1','0'] \n",
    "# c = [str((1 + (-1)**(i+1)) // 2) for i in range(L)]\n",
    "\n",
    "UnitVector = lambda c: np.eye(2**n)[c]\n",
    "init = UnitVector(int(''.join(c), 2))\n",
    "\n",
    "exact_te = [expm_multiply(-1j * H_XY * t, init) for t in np.linspace(0, tf, Nt)]"
   ]
  },
  {
   "cell_type": "code",
   "execution_count": 554,
   "metadata": {},
   "outputs": [],
   "source": [
    "def ExactEvolve(dt, nt, init):\n",
    "    U = expm(-1j * H_XY * dt)\n",
    "\n",
    "    exact = [np.zeros(2**n) for i in range(nt+1)]\n",
    "    exact[0] = init\n",
    "    for i in range(nt):\n",
    "        exact[i+1] = U @ exact[i]\n",
    "    return exact\n",
    "\n",
    "def TrotterEvolve(dt, nt, init):\n",
    "    XX = expm(-1j * dt * np.kron(X,X))\n",
    "    YY = expm(-1j * dt * np.kron(Y,Y))\n",
    "    UTrot = XX @ YY\n",
    "\n",
    "    trot = [np.zeros(2**n) for i in range(nt+1)]\n",
    "    trot[0] = init\n",
    "    for i in range(nt):\n",
    "        trot[i+1] = UTrot @ trot[i]\n",
    "    return trot\n",
    "\n",
    "trot_te = TrotterEvolve(dt, Nt, init)\n",
    "exact_te = ExactEvolve(dt, Nt, init)\n",
    "# U_trot = lambda t : expm(-1j * t * np.kron(X,X)) @ expm(-1j * t * np.kron(Y,Y))\n",
    "# trot_te = [(U_trot(float(t)) @ init) for t in np.linspace(0, tf, Nt)]"
   ]
  },
  {
   "cell_type": "code",
   "execution_count": 555,
   "metadata": {},
   "outputs": [
    {
     "data": {
      "text/plain": [
       "[<matplotlib.lines.Line2D at 0x2e2c3b6fd60>]"
      ]
     },
     "execution_count": 555,
     "metadata": {},
     "output_type": "execute_result"
    },
    {
     "data": {
      "image/png": "[encoded data removed]",
      "text/plain": [
       "<Figure size 432x288 with 1 Axes>"
      ]
     },
     "metadata": {
      "needs_background": "light"
     },
     "output_type": "display_data"
    }
   ],
   "source": [
    "overlap = [np.abs(np.conj(psi) @ phi)**2 for psi,phi in zip(exact_te, trot_te)]\n",
    "# overlap = [np.abs(np.conj(psi) @ np.outer(init, init) @ psi)**2 for psi in revos]\n",
    "\n",
    "maximally = [abs(np.conj(np.array([1/2,1/2,1/2,1/2])) @ psi)**2 for psi in exact_te]\n",
    "\n",
    "plt.plot([i*dt for i in range(len(exact_te))], overlap)\n",
    "plt.plot([i*dt for i in range(len(exact_te))], maximally, 'k--')\n",
    "\n",
    "# plt.axhline(y=0, color='k')"
   ]
  },
  {
   "cell_type": "code",
   "execution_count": 253,
   "metadata": {},
   "outputs": [
    {
     "data": {
      "text/plain": [
       "[array([0.70710678, 0.        , 0.70710678, 0.        ]),\n",
       " array([ 0.70710678+0.j        ,  0.        +0.38468102j,\n",
       "        -0.59331317+0.j        ,  0.        +0.j        ]),\n",
       " array([0.70710678+0.j        , 0.        -0.64554978j,\n",
       "        0.28855759+0.j        , 0.        +0.j        ]),\n",
       " array([0.70710678+0.j        , 0.        +0.69864386j,\n",
       "        0.10907225+0.j        , 0.        +0.j        ])]"
      ]
     },
     "execution_count": 253,
     "metadata": {},
     "output_type": "execute_result"
    }
   ],
   "source": [
    "init = np.array([1/np.sqrt(2),0,1/np.sqrt(2),0])\n",
    "# init = np.array([0,1,0,0])\n",
    "# init = UnitVector(int(''.join(['1','0']), 2))\n",
    "\n",
    "\n",
    "dt = 10\n",
    "Ut = expm(-1j * dt * np.kron(X,X)) @ expm(-1j * dt * np.kron(Y,Y))\n",
    "U = expm(-1j * dt * H_XY)\n",
    "krylov = [init, U @ init, (U @ U) @ init, (U @ U @ U) @ init]\n",
    "\n",
    "krylov"
   ]
  },
  {
   "cell_type": "code",
   "execution_count": 254,
   "metadata": {},
   "outputs": [],
   "source": [
    "def Gramian(krylov):\n",
    "    k = len(krylov)\n",
    "    gramian = np.zeros((k,k))\n",
    "    \n",
    "    for i in range(k):\n",
    "        for j in range(k):\n",
    "            gramian[i][j] = np.conj(krylov[i]) @ krylov[j]\n",
    "\n",
    "    return gramian\n",
    "\n",
    "np.linalg.det(Gramian(krylov))"
   ]
  },
  {
   "cell_type": "code",
   "execution_count": 524,
   "metadata": {},
   "outputs": [
    {
     "data": {
      "text/plain": [
       "array([[1.  +0.j  , 0.  +0.j  , 0.  +0.j  , 0.  +0.j  ],\n",
       "       [0.  +0.j  , 0.88+0.j  , 0.  -0.48j, 0.  +0.j  ],\n",
       "       [0.  +0.j  , 0.  -0.48j, 0.88+0.j  , 0.  +0.j  ],\n",
       "       [0.  +0.j  , 0.  +0.j  , 0.  +0.j  , 1.  +0.j  ]])"
      ]
     },
     "execution_count": 524,
     "metadata": {},
     "output_type": "execute_result"
    }
   ],
   "source": [
    "np.round(expm(-1j * H_XY * dt), 2)"
   ]
  },
  {
   "cell_type": "code",
   "execution_count": 527,
   "metadata": {},
   "outputs": [
    {
     "data": {
      "text/plain": [
       "array([[1.  +0.j  , 0.  +0.j  , 0.  +0.j  , 0.  -0.j  ],\n",
       "       [0.  +0.j  , 0.54+0.j  , 0.  -0.84j, 0.  +0.j  ],\n",
       "       [0.  +0.j  , 0.  -0.84j, 0.54+0.j  , 0.  +0.j  ],\n",
       "       [0.  +0.j  , 0.  +0.j  , 0.  +0.j  , 1.  +0.j  ]])"
      ]
     },
     "execution_count": 527,
     "metadata": {},
     "output_type": "execute_result"
    }
   ],
   "source": [
    "np.round(U_trot(dt), 2)"
   ]
  },
  {
   "cell_type": "code",
   "execution_count": null,
   "metadata": {},
   "outputs": [],
   "source": []
  }
 ],
 "metadata": {
  "kernelspec": {
   "display_name": "qc",
   "language": "python",
   "name": "python3"
  },
  "language_info": {
   "codemirror_mode": {
    "name": "ipython",
    "version": 3
   },
   "file_extension": ".py",
   "mimetype": "text/x-python",
   "name": "python",
   "nbconvert_exporter": "python",
   "pygments_lexer": "ipython3",
   "version": "3.8.12"
  },
  "orig_nbformat": 4
 },
 "nbformat": 4,
 "nbformat_minor": 2
}
