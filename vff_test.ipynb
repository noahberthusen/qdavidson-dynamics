{
 "cells": [
  {
   "cell_type": "code",
   "execution_count": 1,
   "metadata": {},
   "outputs": [],
   "source": [
    "import numpy as np\n",
    "from scipy.sparse.linalg import expm_multiply, expm\n",
    "import matplotlib.pyplot as plt\n",
    "from qiskit.synthesis import SuzukiTrotter"
   ]
  },
  {
   "cell_type": "code",
   "execution_count": 2,
   "metadata": {},
   "outputs": [],
   "source": [
    "X = np.array([[0,1],[1,0]])\n",
    "Y = np.array([[0,-1j],[1j,0]])\n",
    "Z = np.array([[1,0],[0,-1]])\n",
    "I = np.eye(2)\n",
    "\n",
    "n = 4\n",
    "\n",
    "H_XY = np.kron(np.kron(X,X), np.kron(I,I)) + np.kron(np.kron(Y,Y), np.kron(I,I)) + np.kron(np.kron(I,X), np.kron(X,I)) + np.kron(np.kron(I,Y), np.kron(Y,I)) + np.kron(np.kron(I,I), np.kron(X,X)) + np.kron(np.kron(I,I), np.kron(Y,Y))"
   ]
  },
  {
   "cell_type": "code",
   "execution_count": 4,
   "metadata": {},
   "outputs": [
    {
     "name": "stdout",
     "output_type": "stream",
     "text": [
      "\n",
      "Eigenvalues:\n",
      "Eigenvalue 1: (3.2360679774997925+0j)\n",
      "Eigenvalue 2: (1.236067977499789+0j)\n",
      "Eigenvalue 3: (-3.2360679774997902+0j)\n",
      "Eigenvalue 4: (-1.2360679774997896+0j)\n",
      "Eigenvalue 5: (3.2360679774997907+0j)\n",
      "Eigenvalue 6: (-3.2360679774997863+0j)\n",
      "Eigenvalue 7: (1.2360679774997887+0j)\n",
      "Eigenvalue 8: (-1.23606797749979+0j)\n",
      "Eigenvalue 9: (4.472135954999584+0j)\n",
      "Eigenvalue 10: (-4.472135954999581+0j)\n",
      "Eigenvalue 11: (1.9999999999999987+0j)\n",
      "Eigenvalue 12: (-1.9999999999999993+0j)\n",
      "Eigenvalue 13: (-5.3071509970093215e-16+0j)\n",
      "Eigenvalue 14: (3.516972219849336e-16+0j)\n",
      "Eigenvalue 15: 0j\n",
      "Eigenvalue 16: 0j\n",
      "\n",
      "Eigenvectors:\n",
      "Eigenvector 1: [0.        +0.j 0.        +0.j 0.        +0.j 0.        +0.j\n",
      " 0.        +0.j 0.        +0.j 0.        +0.j 0.37174803+0.j\n",
      " 0.        +0.j 0.        +0.j 0.        +0.j 0.60150096+0.j\n",
      " 0.        +0.j 0.60150096+0.j 0.37174803+0.j 0.        +0.j]\n",
      "Eigenvector 2: [ 0.        +0.j  0.        +0.j  0.        +0.j  0.        +0.j\n",
      "  0.        +0.j  0.        +0.j  0.        +0.j  0.60150096+0.j\n",
      "  0.        +0.j  0.        +0.j  0.        +0.j  0.37174803+0.j\n",
      "  0.        +0.j -0.37174803+0.j -0.60150096+0.j  0.        +0.j]\n",
      "Eigenvector 3: [ 0.        +0.j  0.        +0.j  0.        +0.j  0.        +0.j\n",
      "  0.        +0.j  0.        +0.j  0.        +0.j  0.37174803+0.j\n",
      "  0.        +0.j  0.        +0.j  0.        +0.j -0.60150096+0.j\n",
      "  0.        +0.j  0.60150096+0.j -0.37174803+0.j  0.        +0.j]\n",
      "Eigenvector 4: [-0.        -0.j -0.        -0.j -0.        -0.j -0.        -0.j\n",
      " -0.        -0.j -0.        -0.j -0.        -0.j  0.60150096+0.j\n",
      " -0.        -0.j -0.        -0.j -0.        -0.j -0.37174803-0.j\n",
      " -0.        -0.j -0.37174803-0.j  0.60150096-0.j -0.        -0.j]\n",
      "Eigenvector 5: [ 0.00000000e+00+0.j  3.71748034e-01+0.j  6.01500955e-01+0.j\n",
      " -7.57217622e-18+0.j  6.01500955e-01+0.j -1.22520385e-17+0.j\n",
      "  1.40395868e-17+0.j  0.00000000e+00+0.j  3.71748034e-01+0.j\n",
      "  2.89231395e-18+0.j  1.69319008e-17+0.j  0.00000000e+00+0.j\n",
      "  1.04644902e-17+0.j  0.00000000e+00+0.j  0.00000000e+00+0.j\n",
      "  0.00000000e+00+0.j]\n",
      "Eigenvector 6: [ 0.00000000e+00+0.j -3.71748034e-01+0.j  6.01500955e-01+0.j\n",
      "  7.57217622e-18+0.j -6.01500955e-01+0.j -1.22520385e-17+0.j\n",
      " -1.40395868e-17+0.j  0.00000000e+00+0.j  3.71748034e-01+0.j\n",
      " -2.89231395e-18+0.j  1.69319008e-17+0.j  0.00000000e+00+0.j\n",
      " -1.04644902e-17+0.j  0.00000000e+00+0.j  0.00000000e+00+0.j\n",
      "  0.00000000e+00+0.j]\n",
      "Eigenvector 7: [ 0.00000000e+00+0.j  6.01500955e-01+0.j  3.71748034e-01+0.j\n",
      "  1.65448208e-17+0.j -3.71748034e-01+0.j  1.02252616e-17+0.j\n",
      "  8.03102473e-17+0.j  0.00000000e+00+0.j -6.01500955e-01+0.j\n",
      " -4.33149033e-17+0.j -3.69953441e-17+0.j  0.00000000e+00+0.j\n",
      " -5.98597241e-17+0.j  0.00000000e+00+0.j  0.00000000e+00+0.j\n",
      "  0.00000000e+00+0.j]\n",
      "Eigenvector 8: [ 0.00000000e+00+0.j  6.01500955e-01+0.j -3.71748034e-01+0.j\n",
      "  1.65448208e-17+0.j -3.71748034e-01+0.j -1.02252616e-17+0.j\n",
      "  8.03102473e-17+0.j  0.00000000e+00+0.j  6.01500955e-01+0.j\n",
      " -4.33149033e-17+0.j  3.69953441e-17+0.j  0.00000000e+00+0.j\n",
      " -5.98597241e-17+0.j  0.00000000e+00+0.j  0.00000000e+00+0.j\n",
      "  0.00000000e+00+0.j]\n",
      "Eigenvector 9: [ 0.00000000e+00+0.j -4.82622160e-17+0.j -1.61999362e-16+0.j\n",
      "  2.23606798e-01+0.j -1.33115188e-16+0.j  5.00000000e-01+0.j\n",
      "  4.47213595e-01+0.j  0.00000000e+00+0.j -1.89661403e-16+0.j\n",
      "  4.47213595e-01+0.j  5.00000000e-01+0.j  0.00000000e+00+0.j\n",
      "  2.23606798e-01+0.j  0.00000000e+00+0.j  0.00000000e+00+0.j\n",
      "  0.00000000e+00+0.j]\n",
      "Eigenvector 10: [-0.00000000e+00-0.j  4.82622160e-17-0.j -2.02787878e-16-0.j\n",
      " -2.23606798e-01-0.j  1.33115188e-16-0.j  5.00000000e-01-0.j\n",
      " -4.47213595e-01-0.j -0.00000000e+00-0.j -1.48872887e-16-0.j\n",
      " -4.47213595e-01-0.j  5.00000000e-01+0.j -0.00000000e+00-0.j\n",
      " -2.23606798e-01-0.j -0.00000000e+00-0.j -0.00000000e+00-0.j\n",
      " -0.00000000e+00-0.j]\n",
      "Eigenvector 11: [ 0.00000000e+00+0.j  1.01498095e-16+0.j  1.13640883e-16+0.j\n",
      "  5.00000000e-01+0.j  5.55111512e-17+0.j  5.00000000e-01+0.j\n",
      "  2.81941041e-17+0.j  0.00000000e+00+0.j -1.28345228e-17+0.j\n",
      "  1.04522784e-16+0.j -5.00000000e-01+0.j  0.00000000e+00+0.j\n",
      " -5.00000000e-01+0.j  0.00000000e+00+0.j  0.00000000e+00+0.j\n",
      "  0.00000000e+00+0.j]\n",
      "Eigenvector 12: [-0.00000000e+00-0.j -1.01498095e-16-0.j  3.97046232e-17-0.j\n",
      " -5.00000000e-01-0.j -5.55111512e-17-0.j  5.00000000e-01-0.j\n",
      " -2.26256144e-17-0.j -0.00000000e+00-0.j  6.11017370e-17-0.j\n",
      " -1.33573378e-16-0.j -5.00000000e-01-0.j -0.00000000e+00-0.j\n",
      "  5.00000000e-01+0.j -0.00000000e+00-0.j -0.00000000e+00-0.j\n",
      " -0.00000000e+00-0.j]\n",
      "Eigenvector 13: [-0.00000000e+00-0.j  9.53088861e-17-0.j  4.56906861e-17-0.j\n",
      " -9.97835637e-02-0.j -4.76544430e-17-0.j  9.08546321e-17-0.j\n",
      " -6.48358926e-01-0.j -0.00000000e+00-0.j -4.56906861e-17-0.j\n",
      "  7.48142489e-01+0.j -1.26611014e-16-0.j -0.00000000e+00-0.j\n",
      " -9.97835637e-02-0.j -0.00000000e+00-0.j -0.00000000e+00-0.j\n",
      " -0.00000000e+00-0.j]\n",
      "Eigenvector 14: [-0.00000000e+00-0.j  8.63257865e-17-0.j -4.47252852e-17-0.j\n",
      "  6.31961806e-01+0.j -4.31628932e-17-0.j -1.15470852e-16-0.j\n",
      " -2.88046244e-01-0.j -0.00000000e+00-0.j  4.47252852e-17-0.j\n",
      " -3.43915562e-01-0.j  1.37122429e-16-0.j -0.00000000e+00-0.j\n",
      "  6.31961806e-01-0.j -0.00000000e+00-0.j -0.00000000e+00-0.j\n",
      " -0.00000000e+00-0.j]\n",
      "Eigenvector 15: [1.+0.j 0.+0.j 0.+0.j 0.+0.j 0.+0.j 0.+0.j 0.+0.j 0.+0.j 0.+0.j 0.+0.j\n",
      " 0.+0.j 0.+0.j 0.+0.j 0.+0.j 0.+0.j 0.+0.j]\n",
      "Eigenvector 16: [0.+0.j 0.+0.j 0.+0.j 0.+0.j 0.+0.j 0.+0.j 0.+0.j 0.+0.j 0.+0.j 0.+0.j\n",
      " 0.+0.j 0.+0.j 0.+0.j 0.+0.j 0.+0.j 1.+0.j]\n"
     ]
    }
   ],
   "source": [
    "eigenvalues, eigenvectors = np.linalg.eig(H_XY)\n",
    "\n",
    "# Print the original matrix\n",
    "# print(\"Hamiltonian:\")\n",
    "# print(H_XY)\n",
    "\n",
    "# Print the eigenvalues\n",
    "print(\"\\nEigenvalues:\")\n",
    "for i, eigenvalue in enumerate(eigenvalues):\n",
    "    print(f\"Eigenvalue {i+1}: {eigenvalue}\")\n",
    "\n",
    "# Print the eigenvectors\n",
    "print(\"\\nEigenvectors:\")\n",
    "for i, eigenvector in enumerate(eigenvectors.T):\n",
    "    print(f\"Eigenvector {i+1}: {eigenvector}\")"
   ]
  },
  {
   "cell_type": "code",
   "execution_count": 19,
   "metadata": {},
   "outputs": [],
   "source": [
    "tf = 100\n",
    "dt = 1\n",
    "Nt = int(tf / dt)\n",
    "# Nt = 22\n",
    "c = ['1','1','0','0'] \n",
    "# c = [str((1 + (-1)**(i+1)) // 2) for i in range(L)]\n",
    "\n",
    "UnitVector = lambda c: np.eye(2**n)[c]\n",
    "init = UnitVector(int(''.join(c), 2))\n",
    "\n",
    "exact_te = [expm_multiply(-1j * H_XY * t, init) for t in np.linspace(0, tf, Nt)]"
   ]
  },
  {
   "cell_type": "code",
   "execution_count": 50,
   "metadata": {},
   "outputs": [],
   "source": [
    "def ExactEvolve(dt, nt, init):\n",
    "    U = expm(-1j * H_XY * dt)\n",
    "\n",
    "    exact = [np.zeros(2**n) for i in range(nt+1)]\n",
    "    exact[0] = init\n",
    "    for i in range(nt):\n",
    "        exact[i+1] = U @ exact[i]\n",
    "    return exact\n",
    "\n",
    "def TrotterEvolve(dt, nt, init):\n",
    "    even = expm(-1j * dt * (np.kron(np.kron(X,X), np.kron(I,I)) + np.kron(np.kron(Y,Y), np.kron(I,I)) + np.kron(np.kron(I,I), np.kron(X,X)) + np.kron(np.kron(I,I), np.kron(Y,Y))))\n",
    "    odd = expm(-1j * dt * (np.kron(np.kron(I,X), np.kron(X,I)) + np.kron(np.kron(I,Y), np.kron(Y,I))))\n",
    "    UTrot = even @ odd\n",
    "    trot = [np.zeros(2**n) for i in range(nt+1)]\n",
    "    trot[0] = init\n",
    "    for i in range(nt):\n",
    "        trot[i+1] = UTrot @ trot[i]\n",
    "    return trot\n",
    "\n",
    "trot_te = TrotterEvolve(dt, Nt, init)\n",
    "# exact_te = ExactEvolve(dt, Nt, init)\n",
    "# U_trot = lambda t : expm(-1j * t * np.kron(X,X)) @ expm(-1j * t * np.kron(Y,Y))\n",
    "# trot_te = [(U_trot(float(t)) @ init) for t in np.linspace(0, tf, Nt)]"
   ]
  },
  {
   "cell_type": "code",
   "execution_count": 51,
   "metadata": {},
   "outputs": [
    {
     "data": {
      "text/plain": [
       "[<matplotlib.lines.Line2D at 0x1d769baa4c0>]"
      ]
     },
     "execution_count": 51,
     "metadata": {},
     "output_type": "execute_result"
    },
    {
     "data": {
      "image/png": "[encoded data removed]",
      "text/plain": [
       "<Figure size 432x288 with 1 Axes>"
      ]
     },
     "metadata": {
      "needs_background": "light"
     },
     "output_type": "display_data"
    }
   ],
   "source": [
    "overlap = [np.abs(np.conj(psi) @ phi)**2 for psi,phi in zip(exact_te, trot_te)]\n",
    "# overlap = [np.abs(np.conj(psi) @ np.outer(init, init) @ psi)**2 for psi in revos]\n",
    "\n",
    "maximally_mixed = np.eye(2**n) / 2\n",
    "maximally_mixed_overlap = [abs(np.conj(psi) @ maximally_mixed @ psi)**2 for psi in exact_te]\n",
    "\n",
    "plt.plot([i*dt for i in range(len(exact_te))], overlap)\n",
    "plt.plot([i*dt for i in range(len(exact_te))], maximally_mixed_overlap, 'k--')\n",
    "\n",
    "# plt.axhline(y=0, color='k')"
   ]
  },
  {
   "cell_type": "code",
   "execution_count": 253,
   "metadata": {},
   "outputs": [
    {
     "data": {
      "text/plain": [
       "[array([0.70710678, 0.        , 0.70710678, 0.        ]),\n",
       " array([ 0.70710678+0.j        ,  0.        +0.38468102j,\n",
       "        -0.59331317+0.j        ,  0.        +0.j        ]),\n",
       " array([0.70710678+0.j        , 0.        -0.64554978j,\n",
       "        0.28855759+0.j        , 0.        +0.j        ]),\n",
       " array([0.70710678+0.j        , 0.        +0.69864386j,\n",
       "        0.10907225+0.j        , 0.        +0.j        ])]"
      ]
     },
     "execution_count": 253,
     "metadata": {},
     "output_type": "execute_result"
    }
   ],
   "source": [
    "init = np.array([1/np.sqrt(2),0,1/np.sqrt(2),0])\n",
    "# init = np.array([0,1,0,0])\n",
    "# init = UnitVector(int(''.join(['1','0']), 2))\n",
    "\n",
    "\n",
    "dt = 10\n",
    "Ut = expm(-1j * dt * np.kron(X,X)) @ expm(-1j * dt * np.kron(Y,Y))\n",
    "U = expm(-1j * dt * H_XY)\n",
    "krylov = [init, U @ init, (U @ U) @ init, (U @ U @ U) @ init]\n",
    "\n",
    "krylov"
   ]
  },
  {
   "cell_type": "code",
   "execution_count": 254,
   "metadata": {},
   "outputs": [],
   "source": [
    "def Gramian(krylov):\n",
    "    k = len(krylov)\n",
    "    gramian = np.zeros((k,k))\n",
    "    \n",
    "    for i in range(k):\n",
    "        for j in range(k):\n",
    "            gramian[i][j] = np.conj(krylov[i]) @ krylov[j]\n",
    "\n",
    "    return gramian\n",
    "\n",
    "np.linalg.det(Gramian(krylov))"
   ]
  },
  {
   "cell_type": "code",
   "execution_count": 524,
   "metadata": {},
   "outputs": [
    {
     "data": {
      "text/plain": [
       "array([[1.  +0.j  , 0.  +0.j  , 0.  +0.j  , 0.  +0.j  ],\n",
       "       [0.  +0.j  , 0.88+0.j  , 0.  -0.48j, 0.  +0.j  ],\n",
       "       [0.  +0.j  , 0.  -0.48j, 0.88+0.j  , 0.  +0.j  ],\n",
       "       [0.  +0.j  , 0.  +0.j  , 0.  +0.j  , 1.  +0.j  ]])"
      ]
     },
     "execution_count": 524,
     "metadata": {},
     "output_type": "execute_result"
    }
   ],
   "source": [
    "np.round(expm(-1j * H_XY * dt), 2)"
   ]
  },
  {
   "cell_type": "code",
   "execution_count": 527,
   "metadata": {},
   "outputs": [
    {
     "data": {
      "text/plain": [
       "array([[1.  +0.j  , 0.  +0.j  , 0.  +0.j  , 0.  -0.j  ],\n",
       "       [0.  +0.j  , 0.54+0.j  , 0.  -0.84j, 0.  +0.j  ],\n",
       "       [0.  +0.j  , 0.  -0.84j, 0.54+0.j  , 0.  +0.j  ],\n",
       "       [0.  +0.j  , 0.  +0.j  , 0.  +0.j  , 1.  +0.j  ]])"
      ]
     },
     "execution_count": 527,
     "metadata": {},
     "output_type": "execute_result"
    }
   ],
   "source": [
    "np.round(U_trot(dt), 2)"
   ]
  },
  {
   "cell_type": "code",
   "execution_count": null,
   "metadata": {},
   "outputs": [],
   "source": []
  }
 ],
 "metadata": {
  "kernelspec": {
   "display_name": "qc",
   "language": "python",
   "name": "python3"
  },
  "language_info": {
   "codemirror_mode": {
    "name": "ipython",
    "version": 3
   },
   "file_extension": ".py",
   "mimetype": "text/x-python",
   "name": "python",
   "nbconvert_exporter": "python",
   "pygments_lexer": "ipython3",
   "version": "3.8.12"
  },
  "orig_nbformat": 4
 },
 "nbformat": 4,
 "nbformat_minor": 2
}
